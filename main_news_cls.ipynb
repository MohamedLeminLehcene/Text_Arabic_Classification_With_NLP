{
 "cells": [
  {
   "cell_type": "code",
   "execution_count": 1,
   "id": "4a347e7b",
   "metadata": {},
   "outputs": [],
   "source": [
    "#Arabic NEWS classification data\n",
    "#https://www.kaggle.com/code/khalilalla/textmining-project"
   ]
  },
  {
   "cell_type": "code",
   "execution_count": 2,
   "id": "4326712e",
   "metadata": {},
   "outputs": [],
   "source": [
    "#location file => C:\\Users\\HP\\Desktop\\Backupdossier\\Master Recherche(M1) SDIA\\S3\\NLP\\للغة العربية NLP - Arabic Natural Language Processing\\TP\\Text_Classification\\arabic_dataset_classifiction.csv"
   ]
  },
  {
   "cell_type": "markdown",
   "id": "14986f8d",
   "metadata": {},
   "source": [
    "# Import Libraries"
   ]
  },
  {
   "cell_type": "code",
   "execution_count": 72,
   "id": "54ea7725",
   "metadata": {},
   "outputs": [
    {
     "name": "stderr",
     "output_type": "stream",
     "text": [
      "[nltk_data] Downloading package stopwords to\n",
      "[nltk_data]     C:\\Users\\HP\\AppData\\Roaming\\nltk_data...\n",
      "[nltk_data]   Package stopwords is already up-to-date!\n"
     ]
    }
   ],
   "source": [
    "import os\n",
    "import random\n",
    "import pandas as pd\n",
    "import numpy as np\n",
    "\n",
    "import re\n",
    "import string\n",
    "\n",
    "import nltk\n",
    "nltk.download(\"stopwords\")\n",
    "from nltk.corpus import stopwords\n",
    "from nltk.tokenize import word_tokenize, RegexpTokenizer\n",
    "from nltk.stem.isri import ISRIStemmer\n",
    "\n",
    "from collections import Counter\n",
    "import matplotlib.pyplot as plt\n",
    "import seaborn as sns\n",
    "import matplotlib.cm as cm\n",
    "from matplotlib import rcParams\n",
    "\n",
    "from sklearn.model_selection import train_test_split\n",
    "from sklearn.feature_extraction.text import TfidfVectorizer\n",
    "from sklearn.pipeline import Pipeline\n",
    "from sklearn.svm import SVC\n",
    "\n",
    "from joblib import dump, load\n",
    "\n",
    "from sklearn.metrics import accuracy_score"
   ]
  },
  {
   "cell_type": "markdown",
   "id": "53417c61",
   "metadata": {},
   "source": [
    "# Data Input"
   ]
  },
  {
   "cell_type": "code",
   "execution_count": 4,
   "id": "887b41bc",
   "metadata": {},
   "outputs": [],
   "source": [
    "df = pd.read_csv(\"./arabic_dataset_classifiction.csv/arabic_dataset_classifiction.csv\")"
   ]
  },
  {
   "cell_type": "code",
   "execution_count": 5,
   "id": "b5bb7095",
   "metadata": {},
   "outputs": [
    {
     "data": {
      "text/html": [
       "<div>\n",
       "<style scoped>\n",
       "    .dataframe tbody tr th:only-of-type {\n",
       "        vertical-align: middle;\n",
       "    }\n",
       "\n",
       "    .dataframe tbody tr th {\n",
       "        vertical-align: top;\n",
       "    }\n",
       "\n",
       "    .dataframe thead th {\n",
       "        text-align: right;\n",
       "    }\n",
       "</style>\n",
       "<table border=\"1\" class=\"dataframe\">\n",
       "  <thead>\n",
       "    <tr style=\"text-align: right;\">\n",
       "      <th></th>\n",
       "      <th>text</th>\n",
       "      <th>targe</th>\n",
       "    </tr>\n",
       "  </thead>\n",
       "  <tbody>\n",
       "    <tr>\n",
       "      <th>0</th>\n",
       "      <td>بين أستوديوهات ورزازات وصحراء مرزوكة وآثار ولي...</td>\n",
       "      <td>0</td>\n",
       "    </tr>\n",
       "    <tr>\n",
       "      <th>1</th>\n",
       "      <td>قررت النجمة الأمريكية أوبرا وينفري ألا يقتصر ع...</td>\n",
       "      <td>0</td>\n",
       "    </tr>\n",
       "    <tr>\n",
       "      <th>2</th>\n",
       "      <td>أخبارنا المغربية الوزاني تصوير الشملالي ألهب ا...</td>\n",
       "      <td>0</td>\n",
       "    </tr>\n",
       "    <tr>\n",
       "      <th>3</th>\n",
       "      <td>اخبارنا المغربية قال ابراهيم الراشدي محامي سعد...</td>\n",
       "      <td>0</td>\n",
       "    </tr>\n",
       "    <tr>\n",
       "      <th>4</th>\n",
       "      <td>تزال صناعة الجلود في المغرب تتبع الطريقة التقل...</td>\n",
       "      <td>0</td>\n",
       "    </tr>\n",
       "    <tr>\n",
       "      <th>...</th>\n",
       "      <td>...</td>\n",
       "      <td>...</td>\n",
       "    </tr>\n",
       "    <tr>\n",
       "      <th>111723</th>\n",
       "      <td>اللاعب تأخر في العودة إلى التداريب والمدرب غاض...</td>\n",
       "      <td>4</td>\n",
       "    </tr>\n",
       "    <tr>\n",
       "      <th>111724</th>\n",
       "      <td>المشرف العام لحسنية أكادير قال إنه سيغادر الفر...</td>\n",
       "      <td>4</td>\n",
       "    </tr>\n",
       "    <tr>\n",
       "      <th>111725</th>\n",
       "      <td>نسب إليه نتائج الوداد وصحوة الرجاء وآخر صيحاته...</td>\n",
       "      <td>4</td>\n",
       "    </tr>\n",
       "    <tr>\n",
       "      <th>111726</th>\n",
       "      <td>ستحتضن الرباط في الفترة مابين يوليوز المقبل دو...</td>\n",
       "      <td>4</td>\n",
       "    </tr>\n",
       "    <tr>\n",
       "      <th>111727</th>\n",
       "      <td>رضخ أحمد أهمو رئيس أمل تيزنيت لكرة القدم لضغوط...</td>\n",
       "      <td>4</td>\n",
       "    </tr>\n",
       "  </tbody>\n",
       "</table>\n",
       "<p>111728 rows × 2 columns</p>\n",
       "</div>"
      ],
      "text/plain": [
       "                                                     text  targe\n",
       "0       بين أستوديوهات ورزازات وصحراء مرزوكة وآثار ولي...      0\n",
       "1       قررت النجمة الأمريكية أوبرا وينفري ألا يقتصر ع...      0\n",
       "2       أخبارنا المغربية الوزاني تصوير الشملالي ألهب ا...      0\n",
       "3       اخبارنا المغربية قال ابراهيم الراشدي محامي سعد...      0\n",
       "4       تزال صناعة الجلود في المغرب تتبع الطريقة التقل...      0\n",
       "...                                                   ...    ...\n",
       "111723  اللاعب تأخر في العودة إلى التداريب والمدرب غاض...      4\n",
       "111724  المشرف العام لحسنية أكادير قال إنه سيغادر الفر...      4\n",
       "111725  نسب إليه نتائج الوداد وصحوة الرجاء وآخر صيحاته...      4\n",
       "111726  ستحتضن الرباط في الفترة مابين يوليوز المقبل دو...      4\n",
       "111727  رضخ أحمد أهمو رئيس أمل تيزنيت لكرة القدم لضغوط...      4\n",
       "\n",
       "[111728 rows x 2 columns]"
      ]
     },
     "execution_count": 5,
     "metadata": {},
     "output_type": "execute_result"
    }
   ],
   "source": [
    "df"
   ]
  },
  {
   "cell_type": "markdown",
   "id": "4e5938fd",
   "metadata": {},
   "source": [
    "# Data Cleaning"
   ]
  },
  {
   "cell_type": "code",
   "execution_count": 6,
   "id": "377c5a1a",
   "metadata": {},
   "outputs": [
    {
     "name": "stdout",
     "output_type": "stream",
     "text": [
      "2939\n"
     ]
    }
   ],
   "source": [
    "print(np.sum(df.isnull().any(axis=1)))"
   ]
  },
  {
   "cell_type": "code",
   "execution_count": 7,
   "id": "186eb288",
   "metadata": {},
   "outputs": [],
   "source": [
    "clean_df = df.dropna()"
   ]
  },
  {
   "cell_type": "code",
   "execution_count": 8,
   "id": "4824bc29",
   "metadata": {},
   "outputs": [
    {
     "name": "stdout",
     "output_type": "stream",
     "text": [
      "0\n"
     ]
    }
   ],
   "source": [
    "print(np.sum(clean_df.isnull().any(axis=1)))"
   ]
  },
  {
   "cell_type": "code",
   "execution_count": 9,
   "id": "9dec029a",
   "metadata": {},
   "outputs": [
    {
     "name": "stdout",
     "output_type": "stream",
     "text": [
      "text      True\n",
      "targe    False\n",
      "dtype: bool\n"
     ]
    }
   ],
   "source": [
    "print(df.isnull().any(axis=0))"
   ]
  },
  {
   "cell_type": "code",
   "execution_count": 10,
   "id": "8f130175",
   "metadata": {},
   "outputs": [
    {
     "name": "stdout",
     "output_type": "stream",
     "text": [
      "text     False\n",
      "targe    False\n",
      "dtype: bool\n"
     ]
    }
   ],
   "source": [
    "print(clean_df.isnull().any(axis=0))"
   ]
  },
  {
   "cell_type": "code",
   "execution_count": 11,
   "id": "ee9ad5de",
   "metadata": {},
   "outputs": [
    {
     "data": {
      "text/html": [
       "<div>\n",
       "<style scoped>\n",
       "    .dataframe tbody tr th:only-of-type {\n",
       "        vertical-align: middle;\n",
       "    }\n",
       "\n",
       "    .dataframe tbody tr th {\n",
       "        vertical-align: top;\n",
       "    }\n",
       "\n",
       "    .dataframe thead th {\n",
       "        text-align: right;\n",
       "    }\n",
       "</style>\n",
       "<table border=\"1\" class=\"dataframe\">\n",
       "  <thead>\n",
       "    <tr style=\"text-align: right;\">\n",
       "      <th></th>\n",
       "      <th>text</th>\n",
       "      <th>targe</th>\n",
       "    </tr>\n",
       "  </thead>\n",
       "  <tbody>\n",
       "    <tr>\n",
       "      <th>0</th>\n",
       "      <td>بين أستوديوهات ورزازات وصحراء مرزوكة وآثار ولي...</td>\n",
       "      <td>0</td>\n",
       "    </tr>\n",
       "    <tr>\n",
       "      <th>1</th>\n",
       "      <td>قررت النجمة الأمريكية أوبرا وينفري ألا يقتصر ع...</td>\n",
       "      <td>0</td>\n",
       "    </tr>\n",
       "    <tr>\n",
       "      <th>2</th>\n",
       "      <td>أخبارنا المغربية الوزاني تصوير الشملالي ألهب ا...</td>\n",
       "      <td>0</td>\n",
       "    </tr>\n",
       "    <tr>\n",
       "      <th>3</th>\n",
       "      <td>اخبارنا المغربية قال ابراهيم الراشدي محامي سعد...</td>\n",
       "      <td>0</td>\n",
       "    </tr>\n",
       "    <tr>\n",
       "      <th>4</th>\n",
       "      <td>تزال صناعة الجلود في المغرب تتبع الطريقة التقل...</td>\n",
       "      <td>0</td>\n",
       "    </tr>\n",
       "    <tr>\n",
       "      <th>...</th>\n",
       "      <td>...</td>\n",
       "      <td>...</td>\n",
       "    </tr>\n",
       "    <tr>\n",
       "      <th>111723</th>\n",
       "      <td>اللاعب تأخر في العودة إلى التداريب والمدرب غاض...</td>\n",
       "      <td>4</td>\n",
       "    </tr>\n",
       "    <tr>\n",
       "      <th>111724</th>\n",
       "      <td>المشرف العام لحسنية أكادير قال إنه سيغادر الفر...</td>\n",
       "      <td>4</td>\n",
       "    </tr>\n",
       "    <tr>\n",
       "      <th>111725</th>\n",
       "      <td>نسب إليه نتائج الوداد وصحوة الرجاء وآخر صيحاته...</td>\n",
       "      <td>4</td>\n",
       "    </tr>\n",
       "    <tr>\n",
       "      <th>111726</th>\n",
       "      <td>ستحتضن الرباط في الفترة مابين يوليوز المقبل دو...</td>\n",
       "      <td>4</td>\n",
       "    </tr>\n",
       "    <tr>\n",
       "      <th>111727</th>\n",
       "      <td>رضخ أحمد أهمو رئيس أمل تيزنيت لكرة القدم لضغوط...</td>\n",
       "      <td>4</td>\n",
       "    </tr>\n",
       "  </tbody>\n",
       "</table>\n",
       "<p>108789 rows × 2 columns</p>\n",
       "</div>"
      ],
      "text/plain": [
       "                                                     text  targe\n",
       "0       بين أستوديوهات ورزازات وصحراء مرزوكة وآثار ولي...      0\n",
       "1       قررت النجمة الأمريكية أوبرا وينفري ألا يقتصر ع...      0\n",
       "2       أخبارنا المغربية الوزاني تصوير الشملالي ألهب ا...      0\n",
       "3       اخبارنا المغربية قال ابراهيم الراشدي محامي سعد...      0\n",
       "4       تزال صناعة الجلود في المغرب تتبع الطريقة التقل...      0\n",
       "...                                                   ...    ...\n",
       "111723  اللاعب تأخر في العودة إلى التداريب والمدرب غاض...      4\n",
       "111724  المشرف العام لحسنية أكادير قال إنه سيغادر الفر...      4\n",
       "111725  نسب إليه نتائج الوداد وصحوة الرجاء وآخر صيحاته...      4\n",
       "111726  ستحتضن الرباط في الفترة مابين يوليوز المقبل دو...      4\n",
       "111727  رضخ أحمد أهمو رئيس أمل تيزنيت لكرة القدم لضغوط...      4\n",
       "\n",
       "[108789 rows x 2 columns]"
      ]
     },
     "execution_count": 11,
     "metadata": {},
     "output_type": "execute_result"
    }
   ],
   "source": [
    "clean_df"
   ]
  },
  {
   "cell_type": "code",
   "execution_count": 12,
   "id": "f0b3d00c",
   "metadata": {},
   "outputs": [
    {
     "data": {
      "text/plain": [
       "text     بين أستوديوهات ورزازات وصحراء مرزوكة وآثار ولي...\n",
       "targe                                                    0\n",
       "Name: 0, dtype: object"
      ]
     },
     "execution_count": 12,
     "metadata": {},
     "output_type": "execute_result"
    }
   ],
   "source": [
    "clean_df.iloc[0]"
   ]
  },
  {
   "cell_type": "code",
   "execution_count": 13,
   "id": "548759bf",
   "metadata": {},
   "outputs": [
    {
     "data": {
      "text/plain": [
       "'بين أستوديوهات ورزازات وصحراء مرزوكة وآثار وليلي ثم الرباط والبيضاء انتهى المخرج المغربي سهيل بن بركة من تصوير مشاهد عمله السينمائي الجديد الذي خصصه لتسليط الضوء عن حياة الجاسوس الإسباني دومينغو باديا الذي عاش فترة من القرن التاسع عشر بالمغرب باسم علي باي هذا الفيلم الذي اختار له مخرجه عنوان حلم خليفة يصور حياة علي باي العباسي الذي ما زال أحد أحياء طنجة يحمل اسمه عاش حياة فريدة متنكرا بشخصية تاجر عربي من سلالة الرسول صلى الله عليه وسلم فيما كان يعمل جاسوسا لحساب إسبانيا وكشف مخرج الفيلم سهيل بن بركة في تصريح لهسبريس أن الفيلم السينمائي دخل مرحلة التوضيب التي تتم خارج المغرب مبرزا أن الفيلم الذي يروي حياة الجاسوس الإسباني دومينغو باديا منذ أن قرر من طنجة بدء رحلاته نحو عدد من المناطق في العالم الإسلامي بداية القرن العشرين سيكون جاهزا بعد شهرين ويجمع الفيلم السينمائي عددا من الممثلين من مختلف الجنسيات واختار لدور البطولة الممثلة السينمائية الإيطالية كارولينا كريشنتيني للقيام بدور الإنجليزية الليدي هستر ستانهوب التي اشتهرت في الكتب الغربية بـ زنوبيا والتي عاشت بدورها بالدول العربية وارتبطت بعلي باي بعلاقة عاطفية إضافة إلى وجوه سينمائية معروفة وعن اختيار المخرج المغربي لحياة علي باي العباسي يوضح في تصريح لوكالة الأنباء الفرنسية هذه الشخصية عاشت أحداثا مشوقة كثيرة تستحق أن تسلط عليها الأضواء مشيرا إلى أن الفيلم سيحمل الكثير من المفاجآت لا سيما أن البطل قتل على يد امرأة دست له السم خلال رحلة الحج وأضاف شخصية طموحة وشجاعة ومثقفة ومذهلة في آن واحد كان يرى نفسه مستكشفا في أول الأمر نال علي باي إعجاب السلطان بعلمه فجعله من المقربين منه في ظرف وجيز ودعاه إلى اللحاق به إلى فاس وبرحيله إلى فاس تنتهي قصته مع طنجة وعاش علي باي العباسي بمدينة طنجة على أنه رجل مسلم أصله من الشام ونال ثقة الجميع في هذه المدينة حيث تم تشييد تمثال له في عروسة الشمال نظرا لتمكنه من بعض العلوم خاصة علم الفلك الذي مكنه من رصد كسوف الشمس الذي تزامن مع وجوده في طنجة فكان لعلمه دور كبير ساعده في إخفاء هويته كما أبان هذا الأمر أيضا عن تراجع كبير في ميدان العلم والمعرفة لدى المغاربة والمسلمين بصفة عامة'"
      ]
     },
     "execution_count": 13,
     "metadata": {},
     "output_type": "execute_result"
    }
   ],
   "source": [
    "clean_df.iloc[0,0]"
   ]
  },
  {
   "cell_type": "code",
   "execution_count": 14,
   "id": "4f42e658",
   "metadata": {},
   "outputs": [
    {
     "data": {
      "text/plain": [
       "'أخبارنا المغربية حنان سلامة ذكرت مصادر تونسية أن مصالح الامن التونسي اعتقلت مغني الراي الجزائري رضا الطالياني الأحد بمدينة الحمامات السياحية بعد عملية مداهمة مفاجئة وأضاف ذات المصدر أن عملية التوقيف تمت من قبل فرقة أمن الملاهي التابعة لوحدات التدخل بالحمامات حيث عثر بحوزته على مادة الكوكايين وبعد استشارة النيابة العمومية تم إيداع المغني رضا الطالياني الحبس المؤقت على ذمة التحقيق للإشارة فإن الطالياني كان من المنتظر أن يحي اليوم الإثنين حفلا فنيا بالعاصمة الرباط لكن تم إلغاؤه بسبب الاعتقال المفاجئ'"
      ]
     },
     "execution_count": 14,
     "metadata": {},
     "output_type": "execute_result"
    }
   ],
   "source": [
    "clean_df.iloc[40,0]"
   ]
  },
  {
   "cell_type": "code",
   "execution_count": 15,
   "id": "c888ba74",
   "metadata": {},
   "outputs": [
    {
     "data": {
      "text/html": [
       "<div>\n",
       "<style scoped>\n",
       "    .dataframe tbody tr th:only-of-type {\n",
       "        vertical-align: middle;\n",
       "    }\n",
       "\n",
       "    .dataframe tbody tr th {\n",
       "        vertical-align: top;\n",
       "    }\n",
       "\n",
       "    .dataframe thead th {\n",
       "        text-align: right;\n",
       "    }\n",
       "</style>\n",
       "<table border=\"1\" class=\"dataframe\">\n",
       "  <thead>\n",
       "    <tr style=\"text-align: right;\">\n",
       "      <th></th>\n",
       "      <th>text</th>\n",
       "      <th>targe</th>\n",
       "    </tr>\n",
       "  </thead>\n",
       "  <tbody>\n",
       "    <tr>\n",
       "      <th>0</th>\n",
       "      <td>بين أستوديوهات ورزازات وصحراء مرزوكة وآثار ولي...</td>\n",
       "      <td>0</td>\n",
       "    </tr>\n",
       "    <tr>\n",
       "      <th>1</th>\n",
       "      <td>قررت النجمة الأمريكية أوبرا وينفري ألا يقتصر ع...</td>\n",
       "      <td>0</td>\n",
       "    </tr>\n",
       "    <tr>\n",
       "      <th>2</th>\n",
       "      <td>أخبارنا المغربية الوزاني تصوير الشملالي ألهب ا...</td>\n",
       "      <td>0</td>\n",
       "    </tr>\n",
       "    <tr>\n",
       "      <th>3</th>\n",
       "      <td>اخبارنا المغربية قال ابراهيم الراشدي محامي سعد...</td>\n",
       "      <td>0</td>\n",
       "    </tr>\n",
       "    <tr>\n",
       "      <th>4</th>\n",
       "      <td>تزال صناعة الجلود في المغرب تتبع الطريقة التقل...</td>\n",
       "      <td>0</td>\n",
       "    </tr>\n",
       "    <tr>\n",
       "      <th>...</th>\n",
       "      <td>...</td>\n",
       "      <td>...</td>\n",
       "    </tr>\n",
       "    <tr>\n",
       "      <th>111723</th>\n",
       "      <td>اللاعب تأخر في العودة إلى التداريب والمدرب غاض...</td>\n",
       "      <td>4</td>\n",
       "    </tr>\n",
       "    <tr>\n",
       "      <th>111724</th>\n",
       "      <td>المشرف العام لحسنية أكادير قال إنه سيغادر الفر...</td>\n",
       "      <td>4</td>\n",
       "    </tr>\n",
       "    <tr>\n",
       "      <th>111725</th>\n",
       "      <td>نسب إليه نتائج الوداد وصحوة الرجاء وآخر صيحاته...</td>\n",
       "      <td>4</td>\n",
       "    </tr>\n",
       "    <tr>\n",
       "      <th>111726</th>\n",
       "      <td>ستحتضن الرباط في الفترة مابين يوليوز المقبل دو...</td>\n",
       "      <td>4</td>\n",
       "    </tr>\n",
       "    <tr>\n",
       "      <th>111727</th>\n",
       "      <td>رضخ أحمد أهمو رئيس أمل تيزنيت لكرة القدم لضغوط...</td>\n",
       "      <td>4</td>\n",
       "    </tr>\n",
       "  </tbody>\n",
       "</table>\n",
       "<p>108789 rows × 2 columns</p>\n",
       "</div>"
      ],
      "text/plain": [
       "                                                     text  targe\n",
       "0       بين أستوديوهات ورزازات وصحراء مرزوكة وآثار ولي...      0\n",
       "1       قررت النجمة الأمريكية أوبرا وينفري ألا يقتصر ع...      0\n",
       "2       أخبارنا المغربية الوزاني تصوير الشملالي ألهب ا...      0\n",
       "3       اخبارنا المغربية قال ابراهيم الراشدي محامي سعد...      0\n",
       "4       تزال صناعة الجلود في المغرب تتبع الطريقة التقل...      0\n",
       "...                                                   ...    ...\n",
       "111723  اللاعب تأخر في العودة إلى التداريب والمدرب غاض...      4\n",
       "111724  المشرف العام لحسنية أكادير قال إنه سيغادر الفر...      4\n",
       "111725  نسب إليه نتائج الوداد وصحوة الرجاء وآخر صيحاته...      4\n",
       "111726  ستحتضن الرباط في الفترة مابين يوليوز المقبل دو...      4\n",
       "111727  رضخ أحمد أهمو رئيس أمل تيزنيت لكرة القدم لضغوط...      4\n",
       "\n",
       "[108789 rows x 2 columns]"
      ]
     },
     "execution_count": 15,
     "metadata": {},
     "output_type": "execute_result"
    }
   ],
   "source": [
    "clean_df"
   ]
  },
  {
   "cell_type": "code",
   "execution_count": 16,
   "id": "6a99a180",
   "metadata": {},
   "outputs": [
    {
     "name": "stderr",
     "output_type": "stream",
     "text": [
      "C:\\Users\\HP\\AppData\\Local\\Temp\\ipykernel_1328\\3738301946.py:2: SettingWithCopyWarning: \n",
      "A value is trying to be set on a copy of a slice from a DataFrame.\n",
      "Try using .loc[row_indexer,col_indexer] = value instead\n",
      "\n",
      "See the caveats in the documentation: https://pandas.pydata.org/pandas-docs/stable/user_guide/indexing.html#returning-a-view-versus-a-copy\n",
      "  clean_df['text'] = clean_df['text'].astype(str).str.replace(letter,'',regex=True)\n"
     ]
    }
   ],
   "source": [
    "for letter in r'#.][!XR':\n",
    "    clean_df['text'] = clean_df['text'].astype(str).str.replace(letter,'',regex=True)"
   ]
  },
  {
   "cell_type": "code",
   "execution_count": 17,
   "id": "c2303142",
   "metadata": {},
   "outputs": [
    {
     "name": "stdout",
     "output_type": "stream",
     "text": [
      "Hst\n"
     ]
    }
   ],
   "source": [
    "mystr = \"Most\"\n",
    "xx = mystr.maketrans('M','H','o')\n",
    "newstr = mystr.translate(xx)\n",
    "\n",
    "print(newstr)"
   ]
  },
  {
   "cell_type": "code",
   "execution_count": 18,
   "id": "7cf7eba6",
   "metadata": {},
   "outputs": [
    {
     "name": "stdout",
     "output_type": "stream",
     "text": [
      "punctuation_list `÷×؛<>_()*&^%][ـ،/:\"؟.,'{}~¦+|!”…“–ـ!\"#$%&'()*+,-./:;<=>?@[\\]^_`{|}~\n"
     ]
    }
   ],
   "source": [
    "arabic_punctuations = '''`÷×؛<>_()*&^%][ـ،/:\"؟.,'{}~¦+|!”…“–ـ'''\n",
    "english_punctuation = string.punctuation\n",
    "punctuation_list = arabic_punctuations + english_punctuation\n",
    "\n",
    "print(\"punctuation_list\", punctuation_list)"
   ]
  },
  {
   "cell_type": "code",
   "execution_count": 19,
   "id": "c93ba698",
   "metadata": {},
   "outputs": [],
   "source": [
    "def remove_punctuations(text):\n",
    "    translator = str.maketrans('','',punctuation_list)\n",
    "    return text.translate(translator)"
   ]
  },
  {
   "cell_type": "code",
   "execution_count": 20,
   "id": "beb026f2",
   "metadata": {},
   "outputs": [],
   "source": [
    "def remove_repeating_char(text):\n",
    "    return re.sub(r'(.)\\1+', r'\\1', text)"
   ]
  },
  {
   "cell_type": "code",
   "execution_count": 21,
   "id": "de821e58",
   "metadata": {},
   "outputs": [],
   "source": [
    "def normalize_arabic(text):\n",
    "    text = re.sub(\"[إأآا]\", \"ا\",text)\n",
    "    text = re.sub(\"ى\", \"ي\", text)\n",
    "    text = re.sub(\"ة\", \"ه\", text)\n",
    "    text = re.sub(\"گ\", \"ك\", text)\n",
    "    return text"
   ]
  },
  {
   "cell_type": "code",
   "execution_count": 22,
   "id": "2f0c8eaf",
   "metadata": {},
   "outputs": [],
   "source": [
    "stemmer = ISRIStemmer()"
   ]
  },
  {
   "cell_type": "code",
   "execution_count": 23,
   "id": "0e7249c5",
   "metadata": {},
   "outputs": [],
   "source": [
    "def processDocument(doc, stemmer):\n",
    "    doc = remove_punctuations(doc)\n",
    "    \n",
    "    #replace some re\n",
    "    doc = re.sub(r'@[^\\s]+', ' ', doc)\n",
    "    doc = re.sub(r'_', ' ', doc)\n",
    "    doc = re.sub(r'\\n', ' ', doc)\n",
    "    doc = re.sub(r'[a-z,A-Z]', '', doc)\n",
    "    doc = re.sub(r'\\d', '', doc)\n",
    "    doc = re.sub('((www\\.[^\\s]+)|(https?://[^\\s]+))',' ',doc)\n",
    "    \n",
    "    doc = normalize_arabic(doc)\n",
    "    \n",
    "    doc = remove_repeating_char(doc)\n",
    "    \n",
    "    doc = stemmer.stem(doc)\n",
    "    \n",
    "    return doc"
   ]
  },
  {
   "cell_type": "code",
   "execution_count": 24,
   "id": "bbe7f822",
   "metadata": {},
   "outputs": [
    {
     "data": {
      "text/html": [
       "<div>\n",
       "<style scoped>\n",
       "    .dataframe tbody tr th:only-of-type {\n",
       "        vertical-align: middle;\n",
       "    }\n",
       "\n",
       "    .dataframe tbody tr th {\n",
       "        vertical-align: top;\n",
       "    }\n",
       "\n",
       "    .dataframe thead th {\n",
       "        text-align: right;\n",
       "    }\n",
       "</style>\n",
       "<table border=\"1\" class=\"dataframe\">\n",
       "  <thead>\n",
       "    <tr style=\"text-align: right;\">\n",
       "      <th></th>\n",
       "      <th>text</th>\n",
       "      <th>targe</th>\n",
       "    </tr>\n",
       "  </thead>\n",
       "  <tbody>\n",
       "    <tr>\n",
       "      <th>0</th>\n",
       "      <td>بين أستوديوهات ورزازات وصحراء مرزوكة وآثار ولي...</td>\n",
       "      <td>0</td>\n",
       "    </tr>\n",
       "    <tr>\n",
       "      <th>1</th>\n",
       "      <td>قررت النجمة الأمريكية أوبرا وينفري ألا يقتصر ع...</td>\n",
       "      <td>0</td>\n",
       "    </tr>\n",
       "    <tr>\n",
       "      <th>2</th>\n",
       "      <td>أخبارنا المغربية الوزاني تصوير الشملالي ألهب ا...</td>\n",
       "      <td>0</td>\n",
       "    </tr>\n",
       "    <tr>\n",
       "      <th>3</th>\n",
       "      <td>اخبارنا المغربية قال ابراهيم الراشدي محامي سعد...</td>\n",
       "      <td>0</td>\n",
       "    </tr>\n",
       "    <tr>\n",
       "      <th>4</th>\n",
       "      <td>تزال صناعة الجلود في المغرب تتبع الطريقة التقل...</td>\n",
       "      <td>0</td>\n",
       "    </tr>\n",
       "    <tr>\n",
       "      <th>...</th>\n",
       "      <td>...</td>\n",
       "      <td>...</td>\n",
       "    </tr>\n",
       "    <tr>\n",
       "      <th>111723</th>\n",
       "      <td>اللاعب تأخر في العودة إلى التداريب والمدرب غاض...</td>\n",
       "      <td>4</td>\n",
       "    </tr>\n",
       "    <tr>\n",
       "      <th>111724</th>\n",
       "      <td>المشرف العام لحسنية أكادير قال إنه سيغادر الفر...</td>\n",
       "      <td>4</td>\n",
       "    </tr>\n",
       "    <tr>\n",
       "      <th>111725</th>\n",
       "      <td>نسب إليه نتائج الوداد وصحوة الرجاء وآخر صيحاته...</td>\n",
       "      <td>4</td>\n",
       "    </tr>\n",
       "    <tr>\n",
       "      <th>111726</th>\n",
       "      <td>ستحتضن الرباط في الفترة مابين يوليوز المقبل دو...</td>\n",
       "      <td>4</td>\n",
       "    </tr>\n",
       "    <tr>\n",
       "      <th>111727</th>\n",
       "      <td>رضخ أحمد أهمو رئيس أمل تيزنيت لكرة القدم لضغوط...</td>\n",
       "      <td>4</td>\n",
       "    </tr>\n",
       "  </tbody>\n",
       "</table>\n",
       "<p>108789 rows × 2 columns</p>\n",
       "</div>"
      ],
      "text/plain": [
       "                                                     text  targe\n",
       "0       بين أستوديوهات ورزازات وصحراء مرزوكة وآثار ولي...      0\n",
       "1       قررت النجمة الأمريكية أوبرا وينفري ألا يقتصر ع...      0\n",
       "2       أخبارنا المغربية الوزاني تصوير الشملالي ألهب ا...      0\n",
       "3       اخبارنا المغربية قال ابراهيم الراشدي محامي سعد...      0\n",
       "4       تزال صناعة الجلود في المغرب تتبع الطريقة التقل...      0\n",
       "...                                                   ...    ...\n",
       "111723  اللاعب تأخر في العودة إلى التداريب والمدرب غاض...      4\n",
       "111724  المشرف العام لحسنية أكادير قال إنه سيغادر الفر...      4\n",
       "111725  نسب إليه نتائج الوداد وصحوة الرجاء وآخر صيحاته...      4\n",
       "111726  ستحتضن الرباط في الفترة مابين يوليوز المقبل دو...      4\n",
       "111727  رضخ أحمد أهمو رئيس أمل تيزنيت لكرة القدم لضغوط...      4\n",
       "\n",
       "[108789 rows x 2 columns]"
      ]
     },
     "execution_count": 24,
     "metadata": {},
     "output_type": "execute_result"
    }
   ],
   "source": [
    "clean_df"
   ]
  },
  {
   "cell_type": "code",
   "execution_count": 25,
   "id": "304d41fd",
   "metadata": {},
   "outputs": [
    {
     "name": "stderr",
     "output_type": "stream",
     "text": [
      "C:\\Users\\HP\\AppData\\Local\\Temp\\ipykernel_1328\\3553918876.py:1: SettingWithCopyWarning: \n",
      "A value is trying to be set on a copy of a slice from a DataFrame.\n",
      "Try using .loc[row_indexer,col_indexer] = value instead\n",
      "\n",
      "See the caveats in the documentation: https://pandas.pydata.org/pandas-docs/stable/user_guide/indexing.html#returning-a-view-versus-a-copy\n",
      "  clean_df['text'] = clean_df['text'].apply(lambda x:processDocument(x,stemmer))\n"
     ]
    }
   ],
   "source": [
    "clean_df['text'] = clean_df['text'].apply(lambda x:processDocument(x,stemmer))"
   ]
  },
  {
   "cell_type": "code",
   "execution_count": 26,
   "id": "03ebe357",
   "metadata": {
    "scrolled": true
   },
   "outputs": [
    {
     "data": {
      "text/html": [
       "<div>\n",
       "<style scoped>\n",
       "    .dataframe tbody tr th:only-of-type {\n",
       "        vertical-align: middle;\n",
       "    }\n",
       "\n",
       "    .dataframe tbody tr th {\n",
       "        vertical-align: top;\n",
       "    }\n",
       "\n",
       "    .dataframe thead th {\n",
       "        text-align: right;\n",
       "    }\n",
       "</style>\n",
       "<table border=\"1\" class=\"dataframe\">\n",
       "  <thead>\n",
       "    <tr style=\"text-align: right;\">\n",
       "      <th></th>\n",
       "      <th>text</th>\n",
       "      <th>targe</th>\n",
       "    </tr>\n",
       "  </thead>\n",
       "  <tbody>\n",
       "    <tr>\n",
       "      <th>0</th>\n",
       "      <td>بين استوديوهات ورزازات وصحراء مرزوكه واثار ولي...</td>\n",
       "      <td>0</td>\n",
       "    </tr>\n",
       "    <tr>\n",
       "      <th>1</th>\n",
       "      <td>قرت النجمه الامريكيه اوبرا وينفري الا يقتصر عم...</td>\n",
       "      <td>0</td>\n",
       "    </tr>\n",
       "    <tr>\n",
       "      <th>2</th>\n",
       "      <td>اخبارنا المغربيه الوزاني تصوير الشملالي الهب ا...</td>\n",
       "      <td>0</td>\n",
       "    </tr>\n",
       "    <tr>\n",
       "      <th>3</th>\n",
       "      <td>اخبارنا المغربيه قال ابراهيم الراشدي محامي سعد...</td>\n",
       "      <td>0</td>\n",
       "    </tr>\n",
       "    <tr>\n",
       "      <th>4</th>\n",
       "      <td>تزال صناعه الجلود في المغرب تبع الطريقه التقلي...</td>\n",
       "      <td>0</td>\n",
       "    </tr>\n",
       "    <tr>\n",
       "      <th>...</th>\n",
       "      <td>...</td>\n",
       "      <td>...</td>\n",
       "    </tr>\n",
       "    <tr>\n",
       "      <th>111723</th>\n",
       "      <td>اعب تاخر في العوده الي التداريب والمدرب غاضب و...</td>\n",
       "      <td>4</td>\n",
       "    </tr>\n",
       "    <tr>\n",
       "      <th>111724</th>\n",
       "      <td>مشرف العام لحسنيه اكادير قال انه سيغادر الفريق...</td>\n",
       "      <td>4</td>\n",
       "    </tr>\n",
       "    <tr>\n",
       "      <th>111725</th>\n",
       "      <td>نسب اليه نتائج الوداد وصحوه الرجاء واخر صيحاته...</td>\n",
       "      <td>4</td>\n",
       "    </tr>\n",
       "    <tr>\n",
       "      <th>111726</th>\n",
       "      <td>ستحتضن الرباط في الفتره مابين يوليوز المقبل دو...</td>\n",
       "      <td>4</td>\n",
       "    </tr>\n",
       "    <tr>\n",
       "      <th>111727</th>\n",
       "      <td>رضخ احمد اهمو رئيس امل تيزنيت لكره القدم لضغوط...</td>\n",
       "      <td>4</td>\n",
       "    </tr>\n",
       "  </tbody>\n",
       "</table>\n",
       "<p>108789 rows × 2 columns</p>\n",
       "</div>"
      ],
      "text/plain": [
       "                                                     text  targe\n",
       "0       بين استوديوهات ورزازات وصحراء مرزوكه واثار ولي...      0\n",
       "1       قرت النجمه الامريكيه اوبرا وينفري الا يقتصر عم...      0\n",
       "2       اخبارنا المغربيه الوزاني تصوير الشملالي الهب ا...      0\n",
       "3       اخبارنا المغربيه قال ابراهيم الراشدي محامي سعد...      0\n",
       "4       تزال صناعه الجلود في المغرب تبع الطريقه التقلي...      0\n",
       "...                                                   ...    ...\n",
       "111723  اعب تاخر في العوده الي التداريب والمدرب غاضب و...      4\n",
       "111724  مشرف العام لحسنيه اكادير قال انه سيغادر الفريق...      4\n",
       "111725  نسب اليه نتائج الوداد وصحوه الرجاء واخر صيحاته...      4\n",
       "111726  ستحتضن الرباط في الفتره مابين يوليوز المقبل دو...      4\n",
       "111727  رضخ احمد اهمو رئيس امل تيزنيت لكره القدم لضغوط...      4\n",
       "\n",
       "[108789 rows x 2 columns]"
      ]
     },
     "execution_count": 26,
     "metadata": {},
     "output_type": "execute_result"
    }
   ],
   "source": [
    "clean_df"
   ]
  },
  {
   "cell_type": "markdown",
   "id": "f4770999",
   "metadata": {},
   "source": [
    "# Text Tokenization"
   ]
  },
  {
   "cell_type": "code",
   "execution_count": 28,
   "id": "5dae9cbf",
   "metadata": {},
   "outputs": [
    {
     "name": "stdout",
     "output_type": "stream",
     "text": [
      "بين استوديوهات ورزازات وصحراء مرزوكه واثار وليلي ثم الرباط والبيضاء انتهي المخرج المغربي سهيل بن بركه من تصوير مشاهد عمله السينمائي الجديد الذي خصه لتسليط الضوء عن حياه الجاسوس الاسباني دومينغو باديا الذي عاش فتره من القرن التاسع عشر بالمغرب باسم علي باي هذا الفيلم الذي اختار له مخرجه عنوان حلم خليفه يصور حياه علي باي العباسي الذي ما زال احد احياء طنجه يحمل اسمه عاش حياه فريده متنكرا بشخصيه تاجر عربي من سلاله الرسول صلي اله عليه وسلم فيما كان يعمل جاسوسا لحساب اسبانيا وكشف مخرج الفيلم سهيل بن بركه في تصريح لهسبريس ان الفيلم السينمائي دخل مرحله التوضيب التي تم خارج المغرب مبرزا ان الفيلم الذي يروي حياه الجاسوس الاسباني دومينغو باديا منذ ان قر من طنجه بدء رحلاته نحو عد من المناطق في العالم الاسلامي بدايه القرن العشرين سيكون جاهزا بعد شهرين ويجمع الفيلم السينمائي عدا من المثلين من مختلف الجنسيات واختار لدور البطوله المثله السينمائيه الايطاليه كارولينا كريشنتيني لقيام بدور الانجليزيه اليدي هستر ستانهوب التي اشتهرت في الكتب الغربيه ب زنوبيا والتي عاشت بدورها بالدول العربيه وارتبطت بعلي باي بعلاقه عاطفيه اضافه الي وجوه سينمائيه معروفه وعن اختيار المخرج المغربي لحياه علي باي العباسي يوضح في تصريح لوكاله الانباء الفرنسيه هذه الشخصيه عاشت احداثا مشوقه كثيره تستحق ان تسلط عليها الاضواء مشيرا الي ان الفيلم سيحمل الكثير من المفاجات لا سيما ان البطل قتل علي يد امراه دست له السم خلال رحله الحج واضاف شخصيه طموحه وشجاعه ومثقفه ومذهله في ان واحد كان يري نفسه مستكشفا في اول الامر نال علي باي اعجاب السلطان بعلمه فجعله من المقربين منه في ظرف وجيز ودعاه الي الحاق به الي فاس وبرحيله الي فاس تنتهي قصته مع طنجه وعاش علي باي العباسي بمدينه طنجه علي انه رجل مسلم اصله من الشام ونال ثقه الجميع في هذه المدينه حيث تم تشيد تمثال له في عروسه الشمال نظرا لتمكنه من بعض العلوم خاصه علم الفلك الذي مكنه من رصد كسوف الشمس الذي تزامن مع وجوده في طنجه فكان لعلمه دور كبير ساعده في اخفاء هويته كما ابان هذا الامر ايضا عن تراجع كبير في ميدان العلم والمعرفه لدي المغاربه والمسلمين بصفه عامه\n"
     ]
    }
   ],
   "source": [
    "print(clean_df['text'].values[0])"
   ]
  },
  {
   "cell_type": "code",
   "execution_count": 29,
   "id": "2ab25df5",
   "metadata": {},
   "outputs": [
    {
     "name": "stderr",
     "output_type": "stream",
     "text": [
      "C:\\Users\\HP\\AppData\\Local\\Temp\\ipykernel_1328\\1726797722.py:2: SettingWithCopyWarning: \n",
      "A value is trying to be set on a copy of a slice from a DataFrame.\n",
      "Try using .loc[row_indexer,col_indexer] = value instead\n",
      "\n",
      "See the caveats in the documentation: https://pandas.pydata.org/pandas-docs/stable/user_guide/indexing.html#returning-a-view-versus-a-copy\n",
      "  clean_df['text'] = clean_df['text'].apply(tokenizer.tokenize)\n"
     ]
    }
   ],
   "source": [
    "tokenizer = RegexpTokenizer(r'\\w+')\n",
    "clean_df['text'] = clean_df['text'].apply(tokenizer.tokenize)"
   ]
  },
  {
   "cell_type": "code",
   "execution_count": 32,
   "id": "31772262",
   "metadata": {},
   "outputs": [
    {
     "name": "stdout",
     "output_type": "stream",
     "text": [
      "['بين', 'استوديوهات', 'ورزازات', 'وصحراء', 'مرزوكه', 'واثار', 'وليلي', 'ثم', 'الرباط', 'والبيضاء', 'انتهي', 'المخرج', 'المغربي', 'سهيل', 'بن', 'بركه', 'من', 'تصوير', 'مشاهد', 'عمله', 'السينمائي', 'الجديد', 'الذي', 'خصه', 'لتسليط', 'الضوء', 'عن', 'حياه', 'الجاسوس', 'الاسباني', 'دومينغو', 'باديا', 'الذي', 'عاش', 'فتره', 'من', 'القرن', 'التاسع', 'عشر', 'بالمغرب', 'باسم', 'علي', 'باي', 'هذا', 'الفيلم', 'الذي', 'اختار', 'له', 'مخرجه', 'عنوان', 'حلم', 'خليفه', 'يصور', 'حياه', 'علي', 'باي', 'العباسي', 'الذي', 'ما', 'زال', 'احد', 'احياء', 'طنجه', 'يحمل', 'اسمه', 'عاش', 'حياه', 'فريده', 'متنكرا', 'بشخصيه', 'تاجر', 'عربي', 'من', 'سلاله', 'الرسول', 'صلي', 'اله', 'عليه', 'وسلم', 'فيما', 'كان', 'يعمل', 'جاسوسا', 'لحساب', 'اسبانيا', 'وكشف', 'مخرج', 'الفيلم', 'سهيل', 'بن', 'بركه', 'في', 'تصريح', 'لهسبريس', 'ان', 'الفيلم', 'السينمائي', 'دخل', 'مرحله', 'التوضيب', 'التي', 'تم', 'خارج', 'المغرب', 'مبرزا', 'ان', 'الفيلم', 'الذي', 'يروي', 'حياه', 'الجاسوس', 'الاسباني', 'دومينغو', 'باديا', 'منذ', 'ان', 'قر', 'من', 'طنجه', 'بدء', 'رحلاته', 'نحو', 'عد', 'من', 'المناطق', 'في', 'العالم', 'الاسلامي', 'بدايه', 'القرن', 'العشرين', 'سيكون', 'جاهزا', 'بعد', 'شهرين', 'ويجمع', 'الفيلم', 'السينمائي', 'عدا', 'من', 'المثلين', 'من', 'مختلف', 'الجنسيات', 'واختار', 'لدور', 'البطوله', 'المثله', 'السينمائيه', 'الايطاليه', 'كارولينا', 'كريشنتيني', 'لقيام', 'بدور', 'الانجليزيه', 'اليدي', 'هستر', 'ستانهوب', 'التي', 'اشتهرت', 'في', 'الكتب', 'الغربيه', 'ب', 'زنوبيا', 'والتي', 'عاشت', 'بدورها', 'بالدول', 'العربيه', 'وارتبطت', 'بعلي', 'باي', 'بعلاقه', 'عاطفيه', 'اضافه', 'الي', 'وجوه', 'سينمائيه', 'معروفه', 'وعن', 'اختيار', 'المخرج', 'المغربي', 'لحياه', 'علي', 'باي', 'العباسي', 'يوضح', 'في', 'تصريح', 'لوكاله', 'الانباء', 'الفرنسيه', 'هذه', 'الشخصيه', 'عاشت', 'احداثا', 'مشوقه', 'كثيره', 'تستحق', 'ان', 'تسلط', 'عليها', 'الاضواء', 'مشيرا', 'الي', 'ان', 'الفيلم', 'سيحمل', 'الكثير', 'من', 'المفاجات', 'لا', 'سيما', 'ان', 'البطل', 'قتل', 'علي', 'يد', 'امراه', 'دست', 'له', 'السم', 'خلال', 'رحله', 'الحج', 'واضاف', 'شخصيه', 'طموحه', 'وشجاعه', 'ومثقفه', 'ومذهله', 'في', 'ان', 'واحد', 'كان', 'يري', 'نفسه', 'مستكشفا', 'في', 'اول', 'الامر', 'نال', 'علي', 'باي', 'اعجاب', 'السلطان', 'بعلمه', 'فجعله', 'من', 'المقربين', 'منه', 'في', 'ظرف', 'وجيز', 'ودعاه', 'الي', 'الحاق', 'به', 'الي', 'فاس', 'وبرحيله', 'الي', 'فاس', 'تنتهي', 'قصته', 'مع', 'طنجه', 'وعاش', 'علي', 'باي', 'العباسي', 'بمدينه', 'طنجه', 'علي', 'انه', 'رجل', 'مسلم', 'اصله', 'من', 'الشام', 'ونال', 'ثقه', 'الجميع', 'في', 'هذه', 'المدينه', 'حيث', 'تم', 'تشيد', 'تمثال', 'له', 'في', 'عروسه', 'الشمال', 'نظرا', 'لتمكنه', 'من', 'بعض', 'العلوم', 'خاصه', 'علم', 'الفلك', 'الذي', 'مكنه', 'من', 'رصد', 'كسوف', 'الشمس', 'الذي', 'تزامن', 'مع', 'وجوده', 'في', 'طنجه', 'فكان', 'لعلمه', 'دور', 'كبير', 'ساعده', 'في', 'اخفاء', 'هويته', 'كما', 'ابان', 'هذا', 'الامر', 'ايضا', 'عن', 'تراجع', 'كبير', 'في', 'ميدان', 'العلم', 'والمعرفه', 'لدي', 'المغاربه', 'والمسلمين', 'بصفه', 'عامه']\n"
     ]
    }
   ],
   "source": [
    "print(clean_df['text'].values[0])"
   ]
  },
  {
   "cell_type": "code",
   "execution_count": 33,
   "id": "3766db34",
   "metadata": {},
   "outputs": [
    {
     "data": {
      "text/html": [
       "<div>\n",
       "<style scoped>\n",
       "    .dataframe tbody tr th:only-of-type {\n",
       "        vertical-align: middle;\n",
       "    }\n",
       "\n",
       "    .dataframe tbody tr th {\n",
       "        vertical-align: top;\n",
       "    }\n",
       "\n",
       "    .dataframe thead th {\n",
       "        text-align: right;\n",
       "    }\n",
       "</style>\n",
       "<table border=\"1\" class=\"dataframe\">\n",
       "  <thead>\n",
       "    <tr style=\"text-align: right;\">\n",
       "      <th></th>\n",
       "      <th>text</th>\n",
       "      <th>targe</th>\n",
       "    </tr>\n",
       "  </thead>\n",
       "  <tbody>\n",
       "    <tr>\n",
       "      <th>0</th>\n",
       "      <td>[بين, استوديوهات, ورزازات, وصحراء, مرزوكه, واث...</td>\n",
       "      <td>0</td>\n",
       "    </tr>\n",
       "    <tr>\n",
       "      <th>1</th>\n",
       "      <td>[قرت, النجمه, الامريكيه, اوبرا, وينفري, الا, ي...</td>\n",
       "      <td>0</td>\n",
       "    </tr>\n",
       "    <tr>\n",
       "      <th>2</th>\n",
       "      <td>[اخبارنا, المغربيه, الوزاني, تصوير, الشملالي, ...</td>\n",
       "      <td>0</td>\n",
       "    </tr>\n",
       "    <tr>\n",
       "      <th>3</th>\n",
       "      <td>[اخبارنا, المغربيه, قال, ابراهيم, الراشدي, محا...</td>\n",
       "      <td>0</td>\n",
       "    </tr>\n",
       "    <tr>\n",
       "      <th>4</th>\n",
       "      <td>[تزال, صناعه, الجلود, في, المغرب, تبع, الطريقه...</td>\n",
       "      <td>0</td>\n",
       "    </tr>\n",
       "    <tr>\n",
       "      <th>...</th>\n",
       "      <td>...</td>\n",
       "      <td>...</td>\n",
       "    </tr>\n",
       "    <tr>\n",
       "      <th>111723</th>\n",
       "      <td>[اعب, تاخر, في, العوده, الي, التداريب, والمدرب...</td>\n",
       "      <td>4</td>\n",
       "    </tr>\n",
       "    <tr>\n",
       "      <th>111724</th>\n",
       "      <td>[مشرف, العام, لحسنيه, اكادير, قال, انه, سيغادر...</td>\n",
       "      <td>4</td>\n",
       "    </tr>\n",
       "    <tr>\n",
       "      <th>111725</th>\n",
       "      <td>[نسب, اليه, نتائج, الوداد, وصحوه, الرجاء, واخر...</td>\n",
       "      <td>4</td>\n",
       "    </tr>\n",
       "    <tr>\n",
       "      <th>111726</th>\n",
       "      <td>[ستحتضن, الرباط, في, الفتره, مابين, يوليوز, ال...</td>\n",
       "      <td>4</td>\n",
       "    </tr>\n",
       "    <tr>\n",
       "      <th>111727</th>\n",
       "      <td>[رضخ, احمد, اهمو, رئيس, امل, تيزنيت, لكره, الق...</td>\n",
       "      <td>4</td>\n",
       "    </tr>\n",
       "  </tbody>\n",
       "</table>\n",
       "<p>108789 rows × 2 columns</p>\n",
       "</div>"
      ],
      "text/plain": [
       "                                                     text  targe\n",
       "0       [بين, استوديوهات, ورزازات, وصحراء, مرزوكه, واث...      0\n",
       "1       [قرت, النجمه, الامريكيه, اوبرا, وينفري, الا, ي...      0\n",
       "2       [اخبارنا, المغربيه, الوزاني, تصوير, الشملالي, ...      0\n",
       "3       [اخبارنا, المغربيه, قال, ابراهيم, الراشدي, محا...      0\n",
       "4       [تزال, صناعه, الجلود, في, المغرب, تبع, الطريقه...      0\n",
       "...                                                   ...    ...\n",
       "111723  [اعب, تاخر, في, العوده, الي, التداريب, والمدرب...      4\n",
       "111724  [مشرف, العام, لحسنيه, اكادير, قال, انه, سيغادر...      4\n",
       "111725  [نسب, اليه, نتائج, الوداد, وصحوه, الرجاء, واخر...      4\n",
       "111726  [ستحتضن, الرباط, في, الفتره, مابين, يوليوز, ال...      4\n",
       "111727  [رضخ, احمد, اهمو, رئيس, امل, تيزنيت, لكره, الق...      4\n",
       "\n",
       "[108789 rows x 2 columns]"
      ]
     },
     "execution_count": 33,
     "metadata": {},
     "output_type": "execute_result"
    }
   ],
   "source": [
    "clean_df"
   ]
  },
  {
   "cell_type": "code",
   "execution_count": 36,
   "id": "29f61e28",
   "metadata": {},
   "outputs": [
    {
     "name": "stderr",
     "output_type": "stream",
     "text": [
      "C:\\Users\\HP\\AppData\\Local\\Temp\\ipykernel_1328\\2503662618.py:3: SettingWithCopyWarning: \n",
      "A value is trying to be set on a copy of a slice from a DataFrame.\n",
      "Try using .loc[row_indexer,col_indexer] = value instead\n",
      "\n",
      "See the caveats in the documentation: https://pandas.pydata.org/pandas-docs/stable/user_guide/indexing.html#returning-a-view-versus-a-copy\n",
      "  clean_df['text'] = clean_df['text'].apply(lambda x:[item for item in x if item not in stopwords_list])\n"
     ]
    }
   ],
   "source": [
    "stopwords_list = stopwords.words(\"arabic\")\n",
    "\n",
    "clean_df['text'] = clean_df['text'].apply(lambda x:[item for item in x if item not in stopwords_list])"
   ]
  },
  {
   "cell_type": "code",
   "execution_count": 37,
   "id": "49120f10",
   "metadata": {},
   "outputs": [
    {
     "data": {
      "text/plain": [
       "'\\nclean_row_text = [item for item in x if item not in stopwords_list]\\n\\nclean_row_text = []\\n\\nfor item in x:\\n    if item not in stopwords_list:\\n        clean_row_text.append(item)\\n'"
      ]
     },
     "execution_count": 37,
     "metadata": {},
     "output_type": "execute_result"
    }
   ],
   "source": [
    "'''\n",
    "clean_row_text = [item for item in x if item not in stopwords_list]\n",
    "\n",
    "clean_row_text = []\n",
    "\n",
    "for item in x:\n",
    "    if item not in stopwords_list:\n",
    "        clean_row_text.append(item)\n",
    "'''"
   ]
  },
  {
   "cell_type": "code",
   "execution_count": 38,
   "id": "f7ffb38a",
   "metadata": {},
   "outputs": [
    {
     "data": {
      "text/html": [
       "<div>\n",
       "<style scoped>\n",
       "    .dataframe tbody tr th:only-of-type {\n",
       "        vertical-align: middle;\n",
       "    }\n",
       "\n",
       "    .dataframe tbody tr th {\n",
       "        vertical-align: top;\n",
       "    }\n",
       "\n",
       "    .dataframe thead th {\n",
       "        text-align: right;\n",
       "    }\n",
       "</style>\n",
       "<table border=\"1\" class=\"dataframe\">\n",
       "  <thead>\n",
       "    <tr style=\"text-align: right;\">\n",
       "      <th></th>\n",
       "      <th>text</th>\n",
       "      <th>targe</th>\n",
       "    </tr>\n",
       "  </thead>\n",
       "  <tbody>\n",
       "    <tr>\n",
       "      <th>0</th>\n",
       "      <td>[استوديوهات, ورزازات, وصحراء, مرزوكه, واثار, و...</td>\n",
       "      <td>0</td>\n",
       "    </tr>\n",
       "    <tr>\n",
       "      <th>1</th>\n",
       "      <td>[قرت, النجمه, الامريكيه, اوبرا, وينفري, الا, ي...</td>\n",
       "      <td>0</td>\n",
       "    </tr>\n",
       "    <tr>\n",
       "      <th>2</th>\n",
       "      <td>[اخبارنا, المغربيه, الوزاني, تصوير, الشملالي, ...</td>\n",
       "      <td>0</td>\n",
       "    </tr>\n",
       "    <tr>\n",
       "      <th>3</th>\n",
       "      <td>[اخبارنا, المغربيه, قال, ابراهيم, الراشدي, محا...</td>\n",
       "      <td>0</td>\n",
       "    </tr>\n",
       "    <tr>\n",
       "      <th>4</th>\n",
       "      <td>[تزال, صناعه, الجلود, المغرب, تبع, الطريقه, ال...</td>\n",
       "      <td>0</td>\n",
       "    </tr>\n",
       "    <tr>\n",
       "      <th>...</th>\n",
       "      <td>...</td>\n",
       "      <td>...</td>\n",
       "    </tr>\n",
       "    <tr>\n",
       "      <th>111723</th>\n",
       "      <td>[اعب, تاخر, العوده, الي, التداريب, والمدرب, غا...</td>\n",
       "      <td>4</td>\n",
       "    </tr>\n",
       "    <tr>\n",
       "      <th>111724</th>\n",
       "      <td>[مشرف, العام, لحسنيه, اكادير, قال, انه, سيغادر...</td>\n",
       "      <td>4</td>\n",
       "    </tr>\n",
       "    <tr>\n",
       "      <th>111725</th>\n",
       "      <td>[نسب, اليه, نتائج, الوداد, وصحوه, الرجاء, واخر...</td>\n",
       "      <td>4</td>\n",
       "    </tr>\n",
       "    <tr>\n",
       "      <th>111726</th>\n",
       "      <td>[ستحتضن, الرباط, الفتره, مابين, يوليوز, المقبل...</td>\n",
       "      <td>4</td>\n",
       "    </tr>\n",
       "    <tr>\n",
       "      <th>111727</th>\n",
       "      <td>[رضخ, احمد, اهمو, رئيس, امل, تيزنيت, لكره, الق...</td>\n",
       "      <td>4</td>\n",
       "    </tr>\n",
       "  </tbody>\n",
       "</table>\n",
       "<p>108789 rows × 2 columns</p>\n",
       "</div>"
      ],
      "text/plain": [
       "                                                     text  targe\n",
       "0       [استوديوهات, ورزازات, وصحراء, مرزوكه, واثار, و...      0\n",
       "1       [قرت, النجمه, الامريكيه, اوبرا, وينفري, الا, ي...      0\n",
       "2       [اخبارنا, المغربيه, الوزاني, تصوير, الشملالي, ...      0\n",
       "3       [اخبارنا, المغربيه, قال, ابراهيم, الراشدي, محا...      0\n",
       "4       [تزال, صناعه, الجلود, المغرب, تبع, الطريقه, ال...      0\n",
       "...                                                   ...    ...\n",
       "111723  [اعب, تاخر, العوده, الي, التداريب, والمدرب, غا...      4\n",
       "111724  [مشرف, العام, لحسنيه, اكادير, قال, انه, سيغادر...      4\n",
       "111725  [نسب, اليه, نتائج, الوداد, وصحوه, الرجاء, واخر...      4\n",
       "111726  [ستحتضن, الرباط, الفتره, مابين, يوليوز, المقبل...      4\n",
       "111727  [رضخ, احمد, اهمو, رئيس, امل, تيزنيت, لكره, الق...      4\n",
       "\n",
       "[108789 rows x 2 columns]"
      ]
     },
     "execution_count": 38,
     "metadata": {},
     "output_type": "execute_result"
    }
   ],
   "source": [
    "clean_df"
   ]
  },
  {
   "cell_type": "markdown",
   "id": "e6b3fba0",
   "metadata": {},
   "source": [
    "# Data Analysis"
   ]
  },
  {
   "cell_type": "code",
   "execution_count": 42,
   "id": "65d69e86",
   "metadata": {},
   "outputs": [],
   "source": [
    "def countProperties(df):\n",
    "    all_words = []\n",
    "    \n",
    "    for rows in df['text']:\n",
    "        for word in rows:\n",
    "            all_words.append(word)\n",
    "            \n",
    "    sentence_lengths = []\n",
    "    for rows in df['text']:\n",
    "        sentence_lengths.append(len(rows))\n",
    "        \n",
    "    vocab = sorted(list(set(all_words)))\n",
    "    \n",
    "    print(\"total number of words in all data\", len(all_words))\n",
    "    print(\"total number of vocab in all data\", len(vocab))\n",
    "    print(\"max sentence length\", max(sentence_lengths))\n",
    "    \n",
    "    return all_words"
   ]
  },
  {
   "cell_type": "code",
   "execution_count": 43,
   "id": "da5ee058",
   "metadata": {},
   "outputs": [],
   "source": [
    "culture_df = clean_df.loc[clean_df['targe'] == 0]\n",
    "diverse_df = clean_df.loc[clean_df['targe'] == 1]\n",
    "economy_df = clean_df.loc[clean_df['targe'] == 2]\n",
    "political_df = clean_df.loc[clean_df['targe'] == 3]\n",
    "sport_df = clean_df.loc[clean_df['targe'] == 4]"
   ]
  },
  {
   "cell_type": "code",
   "execution_count": 45,
   "id": "0dd26ff3",
   "metadata": {},
   "outputs": [
    {
     "name": "stdout",
     "output_type": "stream",
     "text": [
      "culture_df\n",
      "total number of words in all data 3169744\n",
      "total number of vocab in all data 171270\n",
      "max sentence length 3746\n",
      "diverse_df\n",
      "total number of words in all data 3849513\n",
      "total number of vocab in all data 127086\n",
      "max sentence length 1481\n",
      "economy_df\n",
      "total number of words in all data 3096116\n",
      "total number of vocab in all data 110687\n",
      "max sentence length 2703\n",
      "political_df\n",
      "total number of words in all data 4936991\n",
      "total number of vocab in all data 164912\n",
      "max sentence length 3980\n",
      "sport_df\n",
      "total number of words in all data 8893786\n",
      "total number of vocab in all data 181324\n",
      "max sentence length 2060\n"
     ]
    }
   ],
   "source": [
    "print(\"culture_df\")\n",
    "culture_words = countProperties(culture_df)\n",
    "print(\"diverse_df\")\n",
    "diverse_words = countProperties(diverse_df)\n",
    "print(\"economy_df\")\n",
    "economy_words = countProperties(economy_df)\n",
    "print(\"political_df\")\n",
    "political_words = countProperties(political_df)\n",
    "print(\"sport_df\")\n",
    "sport_words = countProperties(sport_df)"
   ]
  },
  {
   "cell_type": "code",
   "execution_count": 50,
   "id": "ce49bcbb",
   "metadata": {},
   "outputs": [],
   "source": [
    "def plot(all_words,title):\n",
    "    counted_words = Counter(all_words)\n",
    "    \n",
    "    words = []\n",
    "    counts = []\n",
    "    \n",
    "    for unq_word, count in counted_words.most_common(25):\n",
    "        words.append(unq_word)\n",
    "        counts.append(count)\n",
    "        \n",
    "    colors = cm.rainbow(np.linspace(0, 1, 10))\n",
    "    rcParams['figure.figsize'] = 20, 10\n",
    "    \n",
    "    plt.title(title)\n",
    "    plt.xlabel(\"count\")\n",
    "    plt.ylabel(\"Unq_Words\")\n",
    "    plt.barh(words,counts,color = colors)"
   ]
  },
  {
   "cell_type": "code",
   "execution_count": 51,
   "id": "e0bf789a",
   "metadata": {
    "scrolled": false
   },
   "outputs": [
    {
     "data": {
      "image/png": "[encoded data removed]",
      "text/plain": [
       "<Figure size 2000x1000 with 1 Axes>"
      ]
     },
     "metadata": {},
     "output_type": "display_data"
    }
   ],
   "source": [
    "plot(sport_words, \"most common Uniq_words in sport\")"
   ]
  },
  {
   "cell_type": "code",
   "execution_count": 52,
   "id": "1bc9f4c6",
   "metadata": {},
   "outputs": [
    {
     "data": {
      "image/png": "[encoded data removed]",
      "text/plain": [
       "<Figure size 2000x1000 with 1 Axes>"
      ]
     },
     "metadata": {},
     "output_type": "display_data"
    }
   ],
   "source": [
    "plot(political_words, \"most common Uniq_words in political\")"
   ]
  },
  {
   "cell_type": "code",
   "execution_count": 53,
   "id": "b9e807dc",
   "metadata": {},
   "outputs": [
    {
     "data": {
      "image/png": "[encoded data removed]",
      "text/plain": [
       "<Figure size 2000x1000 with 1 Axes>"
      ]
     },
     "metadata": {},
     "output_type": "display_data"
    }
   ],
   "source": [
    "plot(economy_words, \"most common Uniq_words in economy\")"
   ]
  },
  {
   "cell_type": "code",
   "execution_count": 54,
   "id": "7b3c50a4",
   "metadata": {},
   "outputs": [
    {
     "data": {
      "image/png": "[encoded data removed]",
      "text/plain": [
       "<Figure size 2000x1000 with 1 Axes>"
      ]
     },
     "metadata": {},
     "output_type": "display_data"
    }
   ],
   "source": [
    "plot(diverse_words, \"most common Uniq_words in diverse\")"
   ]
  },
  {
   "cell_type": "code",
   "execution_count": 55,
   "id": "f8fea9f8",
   "metadata": {},
   "outputs": [
    {
     "data": {
      "image/png": "[encoded data removed]",
      "text/plain": [
       "<Figure size 2000x1000 with 1 Axes>"
      ]
     },
     "metadata": {},
     "output_type": "display_data"
    }
   ],
   "source": [
    "plot(culture_words, \"most common Uniq_words in culture\")"
   ]
  },
  {
   "cell_type": "code",
   "execution_count": 56,
   "id": "ca380689",
   "metadata": {},
   "outputs": [
    {
     "data": {
      "image/png": "[encoded data removed]",
      "text/plain": [
       "<Figure size 2000x1000 with 1 Axes>"
      ]
     },
     "metadata": {},
     "output_type": "display_data"
    }
   ],
   "source": [
    "sns.countplot(data=clean_df, x=\"targe\")\n",
    "plt.show()"
   ]
  },
  {
   "cell_type": "markdown",
   "id": "7745b7b3",
   "metadata": {},
   "source": [
    "# Machine Learning Model"
   ]
  },
  {
   "cell_type": "code",
   "execution_count": 57,
   "id": "a5dbe5ba",
   "metadata": {},
   "outputs": [],
   "source": [
    "x = clean_df['text']\n",
    "y = clean_df['targe']"
   ]
  },
  {
   "cell_type": "code",
   "execution_count": 60,
   "id": "dbe0ead7",
   "metadata": {},
   "outputs": [],
   "source": [
    "X_train, X_test, y_train, y_test = train_test_split(x,y,test_size=0.25,random_state=2)"
   ]
  },
  {
   "cell_type": "code",
   "execution_count": 61,
   "id": "b8ff2eff",
   "metadata": {},
   "outputs": [
    {
     "data": {
      "text/plain": [
       "107160    [صحابي, هزمنا, الفريق, الوحيد, فاز, علي, الودا...\n",
       "75095     [عبر, الاعب, الدولي, المغربي, المهدي, بنعطيه, ...\n",
       "10961     [مؤسه, الرياض, تحتفي, برفيق, الجابري, مؤسي, ال...\n",
       "93083     [قالت, الصحافه, المصريه, ان, مسؤولين, الكونفدر...\n",
       "55266     [لجات, مجموعه, الاحزاب, السياسيه, الي, حرب, ال...\n",
       "                                ...                        \n",
       "33899     [قدمت, الحكومه, علي, انظار, لجنه, مراقبه, الما...\n",
       "13586     [مخرجه, الطاهري, قالت, ان, السلسله, ملحمه, حدي...\n",
       "53761     [لخص, الامين, العام, لحزب, الاستقلال, حميد, ال...\n",
       "28065     [استقبل, مستشفي, الرازي, الامراض, العقليه, بتط...\n",
       "80527     [تاهل, المنتخب, المغربي, لكره, اليد, اقل, سنه,...\n",
       "Name: text, Length: 27198, dtype: object"
      ]
     },
     "execution_count": 61,
     "metadata": {},
     "output_type": "execute_result"
    }
   ],
   "source": [
    "X_test"
   ]
  },
  {
   "cell_type": "code",
   "execution_count": 62,
   "id": "75b9432a",
   "metadata": {},
   "outputs": [
    {
     "data": {
      "text/plain": [
       "107160    4\n",
       "75095     4\n",
       "10961     0\n",
       "93083     4\n",
       "55266     3\n",
       "         ..\n",
       "33899     2\n",
       "13586     0\n",
       "53761     3\n",
       "28065     1\n",
       "80527     4\n",
       "Name: targe, Length: 27198, dtype: int64"
      ]
     },
     "execution_count": 62,
     "metadata": {},
     "output_type": "execute_result"
    }
   ],
   "source": [
    "y_test"
   ]
  },
  {
   "cell_type": "code",
   "execution_count": 63,
   "id": "6424856b",
   "metadata": {},
   "outputs": [],
   "source": [
    "word_vectorizer = TfidfVectorizer(sublinear_tf = True, strip_accents = 'unicode', analyzer = 'word', ngram_range=(1,1), max_features=10000)"
   ]
  },
  {
   "cell_type": "code",
   "execution_count": 65,
   "id": "84b0f20a",
   "metadata": {},
   "outputs": [],
   "source": [
    "model = Pipeline([(\"tfidf\",word_vectorizer),(\"clf\",SVC())])"
   ]
  },
  {
   "cell_type": "code",
   "execution_count": 66,
   "id": "09a60c83",
   "metadata": {},
   "outputs": [],
   "source": [
    "model = model.fit(X_train.astype('str'),y_train)"
   ]
  },
  {
   "cell_type": "code",
   "execution_count": 67,
   "id": "46b84c4a",
   "metadata": {},
   "outputs": [
    {
     "data": {
      "text/plain": [
       "['svc_model.joblib']"
      ]
     },
     "execution_count": 67,
     "metadata": {},
     "output_type": "execute_result"
    }
   ],
   "source": [
    "dump(model,\"svc_model.joblib\")"
   ]
  },
  {
   "cell_type": "code",
   "execution_count": 69,
   "id": "3c29853e",
   "metadata": {},
   "outputs": [],
   "source": [
    "model = load(\"svc_model.joblib\")"
   ]
  },
  {
   "cell_type": "markdown",
   "id": "6eb83606",
   "metadata": {},
   "source": [
    "# Model Evaluation"
   ]
  },
  {
   "cell_type": "code",
   "execution_count": 70,
   "id": "a290580a",
   "metadata": {},
   "outputs": [],
   "source": [
    "y_pred = model.predict(X_test.astype('str'))"
   ]
  },
  {
   "cell_type": "code",
   "execution_count": 73,
   "id": "8c42e688",
   "metadata": {},
   "outputs": [],
   "source": [
    "model_accuracy = accuracy_score(y_test,y_pred)"
   ]
  },
  {
   "cell_type": "code",
   "execution_count": 74,
   "id": "b52332e4",
   "metadata": {},
   "outputs": [
    {
     "name": "stdout",
     "output_type": "stream",
     "text": [
      "0.9591514081917788\n"
     ]
    }
   ],
   "source": [
    "print(model_accuracy)"
   ]
  },
  {
   "cell_type": "code",
   "execution_count": null,
   "id": "75ccf22d",
   "metadata": {},
   "outputs": [],
   "source": []
  },
  {
   "cell_type": "code",
   "execution_count": null,
   "id": "71261099",
   "metadata": {},
   "outputs": [],
   "source": []
  }
 ],
 "metadata": {
  "kernelspec": {
   "display_name": "Python 3 (ipykernel)",
   "language": "python",
   "name": "python3"
  },
  "language_info": {
   "codemirror_mode": {
    "name": "ipython",
    "version": 3
   },
   "file_extension": ".py",
   "mimetype": "text/x-python",
   "name": "python",
   "nbconvert_exporter": "python",
   "pygments_lexer": "ipython3",
   "version": "3.9.13"
  }
 },
 "nbformat": 4,
 "nbformat_minor": 5
}
