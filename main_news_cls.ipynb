{
 "cells": [
  {
   "cell_type": "code",
   "execution_count": 1,
   "id": "3c351dc8",
   "metadata": {},
   "outputs": [],
   "source": [
    "#Arabic NEWS classification data\n",
    "#https://www.kaggle.com/code/khalilalla/textmining-project"
   ]
  },
  {
   "cell_type": "code",
   "execution_count": 9,
   "id": "9e6c0fb5",
   "metadata": {},
   "outputs": [],
   "source": [
    "#location file => C:\\Users\\HP\\Desktop\\Backupdossier\\Master Recherche(M1) SDIA\\S3\\NLP\\للغة العربية NLP - Arabic Natural Language Processing\\TP\\Text_Classification\\arabic_dataset_classifiction.csv"
   ]
  },
  {
   "cell_type": "markdown",
   "id": "26eb7b33",
   "metadata": {},
   "source": [
    "# Import Libraries"
   ]
  },
  {
   "cell_type": "code",
   "execution_count": 23,
   "id": "eb3bb1f1",
   "metadata": {},
   "outputs": [
    {
     "name": "stderr",
     "output_type": "stream",
     "text": [
      "[nltk_data] Downloading package stopwords to\n",
      "[nltk_data]     C:\\Users\\HP\\AppData\\Roaming\\nltk_data...\n",
      "[nltk_data]   Package stopwords is already up-to-date!\n"
     ]
    }
   ],
   "source": [
    "import os\n",
    "import random\n",
    "import pandas as pd\n",
    "import numpy as np\n",
    "\n",
    "import re\n",
    "import string\n",
    "\n",
    "import nltk\n",
    "nltk.download(\"stopwords\")\n",
    "from nltk.corpus import stopwords\n",
    "from nltk.tokenize import word_tokenize, RegexpTokenizer\n",
    "from nltk.stem.isri import ISRIStemmer\n",
    "\n",
    "import seaborn as sns"
   ]
  },
  {
   "cell_type": "markdown",
   "id": "126581e6",
   "metadata": {},
   "source": [
    "# Data Input"
   ]
  },
  {
   "cell_type": "code",
   "execution_count": 4,
   "id": "70114e89",
   "metadata": {},
   "outputs": [],
   "source": [
    "df = pd.read_csv(\"./arabic_dataset_classifiction.csv/arabic_dataset_classifiction.csv\")"
   ]
  },
  {
   "cell_type": "code",
   "execution_count": 5,
   "id": "3dd077fe",
   "metadata": {},
   "outputs": [
    {
     "data": {
      "text/html": [
       "<div>\n",
       "<style scoped>\n",
       "    .dataframe tbody tr th:only-of-type {\n",
       "        vertical-align: middle;\n",
       "    }\n",
       "\n",
       "    .dataframe tbody tr th {\n",
       "        vertical-align: top;\n",
       "    }\n",
       "\n",
       "    .dataframe thead th {\n",
       "        text-align: right;\n",
       "    }\n",
       "</style>\n",
       "<table border=\"1\" class=\"dataframe\">\n",
       "  <thead>\n",
       "    <tr style=\"text-align: right;\">\n",
       "      <th></th>\n",
       "      <th>text</th>\n",
       "      <th>targe</th>\n",
       "    </tr>\n",
       "  </thead>\n",
       "  <tbody>\n",
       "    <tr>\n",
       "      <th>0</th>\n",
       "      <td>بين أستوديوهات ورزازات وصحراء مرزوكة وآثار ولي...</td>\n",
       "      <td>0</td>\n",
       "    </tr>\n",
       "    <tr>\n",
       "      <th>1</th>\n",
       "      <td>قررت النجمة الأمريكية أوبرا وينفري ألا يقتصر ع...</td>\n",
       "      <td>0</td>\n",
       "    </tr>\n",
       "    <tr>\n",
       "      <th>2</th>\n",
       "      <td>أخبارنا المغربية الوزاني تصوير الشملالي ألهب ا...</td>\n",
       "      <td>0</td>\n",
       "    </tr>\n",
       "    <tr>\n",
       "      <th>3</th>\n",
       "      <td>اخبارنا المغربية قال ابراهيم الراشدي محامي سعد...</td>\n",
       "      <td>0</td>\n",
       "    </tr>\n",
       "    <tr>\n",
       "      <th>4</th>\n",
       "      <td>تزال صناعة الجلود في المغرب تتبع الطريقة التقل...</td>\n",
       "      <td>0</td>\n",
       "    </tr>\n",
       "    <tr>\n",
       "      <th>...</th>\n",
       "      <td>...</td>\n",
       "      <td>...</td>\n",
       "    </tr>\n",
       "    <tr>\n",
       "      <th>111723</th>\n",
       "      <td>اللاعب تأخر في العودة إلى التداريب والمدرب غاض...</td>\n",
       "      <td>4</td>\n",
       "    </tr>\n",
       "    <tr>\n",
       "      <th>111724</th>\n",
       "      <td>المشرف العام لحسنية أكادير قال إنه سيغادر الفر...</td>\n",
       "      <td>4</td>\n",
       "    </tr>\n",
       "    <tr>\n",
       "      <th>111725</th>\n",
       "      <td>نسب إليه نتائج الوداد وصحوة الرجاء وآخر صيحاته...</td>\n",
       "      <td>4</td>\n",
       "    </tr>\n",
       "    <tr>\n",
       "      <th>111726</th>\n",
       "      <td>ستحتضن الرباط في الفترة مابين يوليوز المقبل دو...</td>\n",
       "      <td>4</td>\n",
       "    </tr>\n",
       "    <tr>\n",
       "      <th>111727</th>\n",
       "      <td>رضخ أحمد أهمو رئيس أمل تيزنيت لكرة القدم لضغوط...</td>\n",
       "      <td>4</td>\n",
       "    </tr>\n",
       "  </tbody>\n",
       "</table>\n",
       "<p>111728 rows × 2 columns</p>\n",
       "</div>"
      ],
      "text/plain": [
       "                                                     text  targe\n",
       "0       بين أستوديوهات ورزازات وصحراء مرزوكة وآثار ولي...      0\n",
       "1       قررت النجمة الأمريكية أوبرا وينفري ألا يقتصر ع...      0\n",
       "2       أخبارنا المغربية الوزاني تصوير الشملالي ألهب ا...      0\n",
       "3       اخبارنا المغربية قال ابراهيم الراشدي محامي سعد...      0\n",
       "4       تزال صناعة الجلود في المغرب تتبع الطريقة التقل...      0\n",
       "...                                                   ...    ...\n",
       "111723  اللاعب تأخر في العودة إلى التداريب والمدرب غاض...      4\n",
       "111724  المشرف العام لحسنية أكادير قال إنه سيغادر الفر...      4\n",
       "111725  نسب إليه نتائج الوداد وصحوة الرجاء وآخر صيحاته...      4\n",
       "111726  ستحتضن الرباط في الفترة مابين يوليوز المقبل دو...      4\n",
       "111727  رضخ أحمد أهمو رئيس أمل تيزنيت لكرة القدم لضغوط...      4\n",
       "\n",
       "[111728 rows x 2 columns]"
      ]
     },
     "execution_count": 5,
     "metadata": {},
     "output_type": "execute_result"
    }
   ],
   "source": [
    "df"
   ]
  },
  {
   "cell_type": "markdown",
   "id": "6514eded",
   "metadata": {},
   "source": [
    "# Data Cleaning"
   ]
  },
  {
   "cell_type": "code",
   "execution_count": 13,
   "id": "3b869bf2",
   "metadata": {},
   "outputs": [
    {
     "name": "stdout",
     "output_type": "stream",
     "text": [
      "2939\n"
     ]
    }
   ],
   "source": [
    "print(np.sum(df.isnull().any(axis=1)))"
   ]
  },
  {
   "cell_type": "code",
   "execution_count": 24,
   "id": "f993935f",
   "metadata": {},
   "outputs": [
    {
     "data": {
      "text/plain": [
       "<AxesSubplot:>"
      ]
     },
     "execution_count": 24,
     "metadata": {},
     "output_type": "execute_result"
    },
    {
     "data": {
      "image/png": "[encoded data removed]",
      "text/plain": [
       "<Figure size 640x480 with 2 Axes>"
      ]
     },
     "metadata": {},
     "output_type": "display_data"
    }
   ],
   "source": [
    "sns.heatmap(df.isnull(),cmap='viridis')"
   ]
  },
  {
   "cell_type": "code",
   "execution_count": 14,
   "id": "799d8ecd",
   "metadata": {},
   "outputs": [],
   "source": [
    "clean_df = df.dropna()"
   ]
  },
  {
   "cell_type": "code",
   "execution_count": 16,
   "id": "6e19680e",
   "metadata": {},
   "outputs": [
    {
     "name": "stdout",
     "output_type": "stream",
     "text": [
      "0\n"
     ]
    }
   ],
   "source": [
    "print(np.sum(clean_df.isnull().any(axis=1)))"
   ]
  },
  {
   "cell_type": "code",
   "execution_count": 17,
   "id": "0da88678",
   "metadata": {},
   "outputs": [
    {
     "name": "stdout",
     "output_type": "stream",
     "text": [
      "text      True\n",
      "targe    False\n",
      "dtype: bool\n"
     ]
    }
   ],
   "source": [
    "print(df.isnull().any(axis=0))"
   ]
  },
  {
   "cell_type": "code",
   "execution_count": 18,
   "id": "18b25313",
   "metadata": {},
   "outputs": [
    {
     "name": "stdout",
     "output_type": "stream",
     "text": [
      "text     False\n",
      "targe    False\n",
      "dtype: bool\n"
     ]
    }
   ],
   "source": [
    "print(clean_df.isnull().any(axis=0))"
   ]
  },
  {
   "cell_type": "code",
   "execution_count": 19,
   "id": "3aa4653a",
   "metadata": {},
   "outputs": [
    {
     "data": {
      "text/html": [
       "<div>\n",
       "<style scoped>\n",
       "    .dataframe tbody tr th:only-of-type {\n",
       "        vertical-align: middle;\n",
       "    }\n",
       "\n",
       "    .dataframe tbody tr th {\n",
       "        vertical-align: top;\n",
       "    }\n",
       "\n",
       "    .dataframe thead th {\n",
       "        text-align: right;\n",
       "    }\n",
       "</style>\n",
       "<table border=\"1\" class=\"dataframe\">\n",
       "  <thead>\n",
       "    <tr style=\"text-align: right;\">\n",
       "      <th></th>\n",
       "      <th>text</th>\n",
       "      <th>targe</th>\n",
       "    </tr>\n",
       "  </thead>\n",
       "  <tbody>\n",
       "    <tr>\n",
       "      <th>0</th>\n",
       "      <td>بين أستوديوهات ورزازات وصحراء مرزوكة وآثار ولي...</td>\n",
       "      <td>0</td>\n",
       "    </tr>\n",
       "    <tr>\n",
       "      <th>1</th>\n",
       "      <td>قررت النجمة الأمريكية أوبرا وينفري ألا يقتصر ع...</td>\n",
       "      <td>0</td>\n",
       "    </tr>\n",
       "    <tr>\n",
       "      <th>2</th>\n",
       "      <td>أخبارنا المغربية الوزاني تصوير الشملالي ألهب ا...</td>\n",
       "      <td>0</td>\n",
       "    </tr>\n",
       "    <tr>\n",
       "      <th>3</th>\n",
       "      <td>اخبارنا المغربية قال ابراهيم الراشدي محامي سعد...</td>\n",
       "      <td>0</td>\n",
       "    </tr>\n",
       "    <tr>\n",
       "      <th>4</th>\n",
       "      <td>تزال صناعة الجلود في المغرب تتبع الطريقة التقل...</td>\n",
       "      <td>0</td>\n",
       "    </tr>\n",
       "    <tr>\n",
       "      <th>...</th>\n",
       "      <td>...</td>\n",
       "      <td>...</td>\n",
       "    </tr>\n",
       "    <tr>\n",
       "      <th>111723</th>\n",
       "      <td>اللاعب تأخر في العودة إلى التداريب والمدرب غاض...</td>\n",
       "      <td>4</td>\n",
       "    </tr>\n",
       "    <tr>\n",
       "      <th>111724</th>\n",
       "      <td>المشرف العام لحسنية أكادير قال إنه سيغادر الفر...</td>\n",
       "      <td>4</td>\n",
       "    </tr>\n",
       "    <tr>\n",
       "      <th>111725</th>\n",
       "      <td>نسب إليه نتائج الوداد وصحوة الرجاء وآخر صيحاته...</td>\n",
       "      <td>4</td>\n",
       "    </tr>\n",
       "    <tr>\n",
       "      <th>111726</th>\n",
       "      <td>ستحتضن الرباط في الفترة مابين يوليوز المقبل دو...</td>\n",
       "      <td>4</td>\n",
       "    </tr>\n",
       "    <tr>\n",
       "      <th>111727</th>\n",
       "      <td>رضخ أحمد أهمو رئيس أمل تيزنيت لكرة القدم لضغوط...</td>\n",
       "      <td>4</td>\n",
       "    </tr>\n",
       "  </tbody>\n",
       "</table>\n",
       "<p>108789 rows × 2 columns</p>\n",
       "</div>"
      ],
      "text/plain": [
       "                                                     text  targe\n",
       "0       بين أستوديوهات ورزازات وصحراء مرزوكة وآثار ولي...      0\n",
       "1       قررت النجمة الأمريكية أوبرا وينفري ألا يقتصر ع...      0\n",
       "2       أخبارنا المغربية الوزاني تصوير الشملالي ألهب ا...      0\n",
       "3       اخبارنا المغربية قال ابراهيم الراشدي محامي سعد...      0\n",
       "4       تزال صناعة الجلود في المغرب تتبع الطريقة التقل...      0\n",
       "...                                                   ...    ...\n",
       "111723  اللاعب تأخر في العودة إلى التداريب والمدرب غاض...      4\n",
       "111724  المشرف العام لحسنية أكادير قال إنه سيغادر الفر...      4\n",
       "111725  نسب إليه نتائج الوداد وصحوة الرجاء وآخر صيحاته...      4\n",
       "111726  ستحتضن الرباط في الفترة مابين يوليوز المقبل دو...      4\n",
       "111727  رضخ أحمد أهمو رئيس أمل تيزنيت لكرة القدم لضغوط...      4\n",
       "\n",
       "[108789 rows x 2 columns]"
      ]
     },
     "execution_count": 19,
     "metadata": {},
     "output_type": "execute_result"
    }
   ],
   "source": [
    "clean_df"
   ]
  },
  {
   "cell_type": "code",
   "execution_count": 20,
   "id": "ee01b3e5",
   "metadata": {},
   "outputs": [
    {
     "data": {
      "text/plain": [
       "text     بين أستوديوهات ورزازات وصحراء مرزوكة وآثار ولي...\n",
       "targe                                                    0\n",
       "Name: 0, dtype: object"
      ]
     },
     "execution_count": 20,
     "metadata": {},
     "output_type": "execute_result"
    }
   ],
   "source": [
    "clean_df.iloc[0]"
   ]
  },
  {
   "cell_type": "code",
   "execution_count": 21,
   "id": "b52963e3",
   "metadata": {},
   "outputs": [
    {
     "data": {
      "text/plain": [
       "'بين أستوديوهات ورزازات وصحراء مرزوكة وآثار وليلي ثم الرباط والبيضاء انتهى المخرج المغربي سهيل بن بركة من تصوير مشاهد عمله السينمائي الجديد الذي خصصه لتسليط الضوء عن حياة الجاسوس الإسباني دومينغو باديا الذي عاش فترة من القرن التاسع عشر بالمغرب باسم علي باي هذا الفيلم الذي اختار له مخرجه عنوان حلم خليفة يصور حياة علي باي العباسي الذي ما زال أحد أحياء طنجة يحمل اسمه عاش حياة فريدة متنكرا بشخصية تاجر عربي من سلالة الرسول صلى الله عليه وسلم فيما كان يعمل جاسوسا لحساب إسبانيا وكشف مخرج الفيلم سهيل بن بركة في تصريح لهسبريس أن الفيلم السينمائي دخل مرحلة التوضيب التي تتم خارج المغرب مبرزا أن الفيلم الذي يروي حياة الجاسوس الإسباني دومينغو باديا منذ أن قرر من طنجة بدء رحلاته نحو عدد من المناطق في العالم الإسلامي بداية القرن العشرين سيكون جاهزا بعد شهرين ويجمع الفيلم السينمائي عددا من الممثلين من مختلف الجنسيات واختار لدور البطولة الممثلة السينمائية الإيطالية كارولينا كريشنتيني للقيام بدور الإنجليزية الليدي هستر ستانهوب التي اشتهرت في الكتب الغربية بـ زنوبيا والتي عاشت بدورها بالدول العربية وارتبطت بعلي باي بعلاقة عاطفية إضافة إلى وجوه سينمائية معروفة وعن اختيار المخرج المغربي لحياة علي باي العباسي يوضح في تصريح لوكالة الأنباء الفرنسية هذه الشخصية عاشت أحداثا مشوقة كثيرة تستحق أن تسلط عليها الأضواء مشيرا إلى أن الفيلم سيحمل الكثير من المفاجآت لا سيما أن البطل قتل على يد امرأة دست له السم خلال رحلة الحج وأضاف شخصية طموحة وشجاعة ومثقفة ومذهلة في آن واحد كان يرى نفسه مستكشفا في أول الأمر نال علي باي إعجاب السلطان بعلمه فجعله من المقربين منه في ظرف وجيز ودعاه إلى اللحاق به إلى فاس وبرحيله إلى فاس تنتهي قصته مع طنجة وعاش علي باي العباسي بمدينة طنجة على أنه رجل مسلم أصله من الشام ونال ثقة الجميع في هذه المدينة حيث تم تشييد تمثال له في عروسة الشمال نظرا لتمكنه من بعض العلوم خاصة علم الفلك الذي مكنه من رصد كسوف الشمس الذي تزامن مع وجوده في طنجة فكان لعلمه دور كبير ساعده في إخفاء هويته كما أبان هذا الأمر أيضا عن تراجع كبير في ميدان العلم والمعرفة لدى المغاربة والمسلمين بصفة عامة'"
      ]
     },
     "execution_count": 21,
     "metadata": {},
     "output_type": "execute_result"
    }
   ],
   "source": [
    "clean_df.iloc[0,0]"
   ]
  },
  {
   "cell_type": "code",
   "execution_count": 22,
   "id": "7f4e3d04",
   "metadata": {},
   "outputs": [
    {
     "data": {
      "text/plain": [
       "'أخبارنا المغربية حنان سلامة ذكرت مصادر تونسية أن مصالح الامن التونسي اعتقلت مغني الراي الجزائري رضا الطالياني الأحد بمدينة الحمامات السياحية بعد عملية مداهمة مفاجئة وأضاف ذات المصدر أن عملية التوقيف تمت من قبل فرقة أمن الملاهي التابعة لوحدات التدخل بالحمامات حيث عثر بحوزته على مادة الكوكايين وبعد استشارة النيابة العمومية تم إيداع المغني رضا الطالياني الحبس المؤقت على ذمة التحقيق للإشارة فإن الطالياني كان من المنتظر أن يحي اليوم الإثنين حفلا فنيا بالعاصمة الرباط لكن تم إلغاؤه بسبب الاعتقال المفاجئ'"
      ]
     },
     "execution_count": 22,
     "metadata": {},
     "output_type": "execute_result"
    }
   ],
   "source": [
    "clean_df.iloc[40,0]"
   ]
  },
  {
   "cell_type": "code",
   "execution_count": null,
   "id": "7ab80dd9",
   "metadata": {},
   "outputs": [],
   "source": []
  }
 ],
 "metadata": {
  "kernelspec": {
   "display_name": "Python 3 (ipykernel)",
   "language": "python",
   "name": "python3"
  },
  "language_info": {
   "codemirror_mode": {
    "name": "ipython",
    "version": 3
   },
   "file_extension": ".py",
   "mimetype": "text/x-python",
   "name": "python",
   "nbconvert_exporter": "python",
   "pygments_lexer": "ipython3",
   "version": "3.9.13"
  }
 },
 "nbformat": 4,
 "nbformat_minor": 5
}
