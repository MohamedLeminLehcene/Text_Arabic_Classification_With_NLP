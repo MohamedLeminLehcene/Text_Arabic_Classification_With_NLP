{
 "cells": [
  {
   "cell_type": "code",
   "execution_count": 1,
   "id": "4a347e7b",
   "metadata": {},
   "outputs": [],
   "source": [
    "#Arabic NEWS classification data\n",
    "#https://www.kaggle.com/code/khalilalla/textmining-project"
   ]
  },
  {
   "cell_type": "code",
   "execution_count": 2,
   "id": "4326712e",
   "metadata": {},
   "outputs": [],
   "source": [
    "#location file => C:\\Users\\HP\\Desktop\\Backupdossier\\Master Recherche(M1) SDIA\\S3\\NLP\\للغة العربية NLP - Arabic Natural Language Processing\\TP\\Text_Classification\\arabic_dataset_classifiction.csv"
   ]
  },
  {
   "cell_type": "markdown",
   "id": "14986f8d",
   "metadata": {},
   "source": [
    "# Import Libraries"
   ]
  },
  {
   "cell_type": "code",
   "execution_count": 3,
   "id": "54ea7725",
   "metadata": {},
   "outputs": [
    {
     "name": "stderr",
     "output_type": "stream",
     "text": [
      "[nltk_data] Downloading package stopwords to\n",
      "[nltk_data]     C:\\Users\\HP\\AppData\\Roaming\\nltk_data...\n",
      "[nltk_data]   Package stopwords is already up-to-date!\n"
     ]
    }
   ],
   "source": [
    "import os\n",
    "import random\n",
    "import pandas as pd\n",
    "import numpy as np\n",
    "\n",
    "import re\n",
    "import string\n",
    "\n",
    "import nltk\n",
    "nltk.download(\"stopwords\")\n",
    "from nltk.corpus import stopwords\n",
    "from nltk.tokenize import word_tokenize, RegexpTokenizer\n",
    "from nltk.stem.isri import ISRIStemmer\n",
    "\n",
    "import seaborn as sns"
   ]
  },
  {
   "cell_type": "markdown",
   "id": "53417c61",
   "metadata": {},
   "source": [
    "# Data Input"
   ]
  },
  {
   "cell_type": "code",
   "execution_count": 4,
   "id": "887b41bc",
   "metadata": {},
   "outputs": [],
   "source": [
    "df = pd.read_csv(\"./arabic_dataset_classifiction.csv/arabic_dataset_classifiction.csv\")"
   ]
  },
  {
   "cell_type": "code",
   "execution_count": 5,
   "id": "b5bb7095",
   "metadata": {},
   "outputs": [
    {
     "data": {
      "text/html": [
       "<div>\n",
       "<style scoped>\n",
       "    .dataframe tbody tr th:only-of-type {\n",
       "        vertical-align: middle;\n",
       "    }\n",
       "\n",
       "    .dataframe tbody tr th {\n",
       "        vertical-align: top;\n",
       "    }\n",
       "\n",
       "    .dataframe thead th {\n",
       "        text-align: right;\n",
       "    }\n",
       "</style>\n",
       "<table border=\"1\" class=\"dataframe\">\n",
       "  <thead>\n",
       "    <tr style=\"text-align: right;\">\n",
       "      <th></th>\n",
       "      <th>text</th>\n",
       "      <th>targe</th>\n",
       "    </tr>\n",
       "  </thead>\n",
       "  <tbody>\n",
       "    <tr>\n",
       "      <th>0</th>\n",
       "      <td>بين أستوديوهات ورزازات وصحراء مرزوكة وآثار ولي...</td>\n",
       "      <td>0</td>\n",
       "    </tr>\n",
       "    <tr>\n",
       "      <th>1</th>\n",
       "      <td>قررت النجمة الأمريكية أوبرا وينفري ألا يقتصر ع...</td>\n",
       "      <td>0</td>\n",
       "    </tr>\n",
       "    <tr>\n",
       "      <th>2</th>\n",
       "      <td>أخبارنا المغربية الوزاني تصوير الشملالي ألهب ا...</td>\n",
       "      <td>0</td>\n",
       "    </tr>\n",
       "    <tr>\n",
       "      <th>3</th>\n",
       "      <td>اخبارنا المغربية قال ابراهيم الراشدي محامي سعد...</td>\n",
       "      <td>0</td>\n",
       "    </tr>\n",
       "    <tr>\n",
       "      <th>4</th>\n",
       "      <td>تزال صناعة الجلود في المغرب تتبع الطريقة التقل...</td>\n",
       "      <td>0</td>\n",
       "    </tr>\n",
       "    <tr>\n",
       "      <th>...</th>\n",
       "      <td>...</td>\n",
       "      <td>...</td>\n",
       "    </tr>\n",
       "    <tr>\n",
       "      <th>111723</th>\n",
       "      <td>اللاعب تأخر في العودة إلى التداريب والمدرب غاض...</td>\n",
       "      <td>4</td>\n",
       "    </tr>\n",
       "    <tr>\n",
       "      <th>111724</th>\n",
       "      <td>المشرف العام لحسنية أكادير قال إنه سيغادر الفر...</td>\n",
       "      <td>4</td>\n",
       "    </tr>\n",
       "    <tr>\n",
       "      <th>111725</th>\n",
       "      <td>نسب إليه نتائج الوداد وصحوة الرجاء وآخر صيحاته...</td>\n",
       "      <td>4</td>\n",
       "    </tr>\n",
       "    <tr>\n",
       "      <th>111726</th>\n",
       "      <td>ستحتضن الرباط في الفترة مابين يوليوز المقبل دو...</td>\n",
       "      <td>4</td>\n",
       "    </tr>\n",
       "    <tr>\n",
       "      <th>111727</th>\n",
       "      <td>رضخ أحمد أهمو رئيس أمل تيزنيت لكرة القدم لضغوط...</td>\n",
       "      <td>4</td>\n",
       "    </tr>\n",
       "  </tbody>\n",
       "</table>\n",
       "<p>111728 rows × 2 columns</p>\n",
       "</div>"
      ],
      "text/plain": [
       "                                                     text  targe\n",
       "0       بين أستوديوهات ورزازات وصحراء مرزوكة وآثار ولي...      0\n",
       "1       قررت النجمة الأمريكية أوبرا وينفري ألا يقتصر ع...      0\n",
       "2       أخبارنا المغربية الوزاني تصوير الشملالي ألهب ا...      0\n",
       "3       اخبارنا المغربية قال ابراهيم الراشدي محامي سعد...      0\n",
       "4       تزال صناعة الجلود في المغرب تتبع الطريقة التقل...      0\n",
       "...                                                   ...    ...\n",
       "111723  اللاعب تأخر في العودة إلى التداريب والمدرب غاض...      4\n",
       "111724  المشرف العام لحسنية أكادير قال إنه سيغادر الفر...      4\n",
       "111725  نسب إليه نتائج الوداد وصحوة الرجاء وآخر صيحاته...      4\n",
       "111726  ستحتضن الرباط في الفترة مابين يوليوز المقبل دو...      4\n",
       "111727  رضخ أحمد أهمو رئيس أمل تيزنيت لكرة القدم لضغوط...      4\n",
       "\n",
       "[111728 rows x 2 columns]"
      ]
     },
     "execution_count": 5,
     "metadata": {},
     "output_type": "execute_result"
    }
   ],
   "source": [
    "df"
   ]
  },
  {
   "cell_type": "markdown",
   "id": "4e5938fd",
   "metadata": {},
   "source": [
    "# Data Cleaning"
   ]
  },
  {
   "cell_type": "code",
   "execution_count": 6,
   "id": "377c5a1a",
   "metadata": {},
   "outputs": [
    {
     "name": "stdout",
     "output_type": "stream",
     "text": [
      "2939\n"
     ]
    }
   ],
   "source": [
    "print(np.sum(df.isnull().any(axis=1)))"
   ]
  },
  {
   "cell_type": "code",
   "execution_count": 7,
   "id": "186eb288",
   "metadata": {},
   "outputs": [],
   "source": [
    "clean_df = df.dropna()"
   ]
  },
  {
   "cell_type": "code",
   "execution_count": 8,
   "id": "4824bc29",
   "metadata": {},
   "outputs": [
    {
     "name": "stdout",
     "output_type": "stream",
     "text": [
      "0\n"
     ]
    }
   ],
   "source": [
    "print(np.sum(clean_df.isnull().any(axis=1)))"
   ]
  },
  {
   "cell_type": "code",
   "execution_count": 9,
   "id": "9dec029a",
   "metadata": {},
   "outputs": [
    {
     "name": "stdout",
     "output_type": "stream",
     "text": [
      "text      True\n",
      "targe    False\n",
      "dtype: bool\n"
     ]
    }
   ],
   "source": [
    "print(df.isnull().any(axis=0))"
   ]
  },
  {
   "cell_type": "code",
   "execution_count": 10,
   "id": "8f130175",
   "metadata": {},
   "outputs": [
    {
     "name": "stdout",
     "output_type": "stream",
     "text": [
      "text     False\n",
      "targe    False\n",
      "dtype: bool\n"
     ]
    }
   ],
   "source": [
    "print(clean_df.isnull().any(axis=0))"
   ]
  },
  {
   "cell_type": "code",
   "execution_count": 11,
   "id": "ee9ad5de",
   "metadata": {},
   "outputs": [
    {
     "data": {
      "text/html": [
       "<div>\n",
       "<style scoped>\n",
       "    .dataframe tbody tr th:only-of-type {\n",
       "        vertical-align: middle;\n",
       "    }\n",
       "\n",
       "    .dataframe tbody tr th {\n",
       "        vertical-align: top;\n",
       "    }\n",
       "\n",
       "    .dataframe thead th {\n",
       "        text-align: right;\n",
       "    }\n",
       "</style>\n",
       "<table border=\"1\" class=\"dataframe\">\n",
       "  <thead>\n",
       "    <tr style=\"text-align: right;\">\n",
       "      <th></th>\n",
       "      <th>text</th>\n",
       "      <th>targe</th>\n",
       "    </tr>\n",
       "  </thead>\n",
       "  <tbody>\n",
       "    <tr>\n",
       "      <th>0</th>\n",
       "      <td>بين أستوديوهات ورزازات وصحراء مرزوكة وآثار ولي...</td>\n",
       "      <td>0</td>\n",
       "    </tr>\n",
       "    <tr>\n",
       "      <th>1</th>\n",
       "      <td>قررت النجمة الأمريكية أوبرا وينفري ألا يقتصر ع...</td>\n",
       "      <td>0</td>\n",
       "    </tr>\n",
       "    <tr>\n",
       "      <th>2</th>\n",
       "      <td>أخبارنا المغربية الوزاني تصوير الشملالي ألهب ا...</td>\n",
       "      <td>0</td>\n",
       "    </tr>\n",
       "    <tr>\n",
       "      <th>3</th>\n",
       "      <td>اخبارنا المغربية قال ابراهيم الراشدي محامي سعد...</td>\n",
       "      <td>0</td>\n",
       "    </tr>\n",
       "    <tr>\n",
       "      <th>4</th>\n",
       "      <td>تزال صناعة الجلود في المغرب تتبع الطريقة التقل...</td>\n",
       "      <td>0</td>\n",
       "    </tr>\n",
       "    <tr>\n",
       "      <th>...</th>\n",
       "      <td>...</td>\n",
       "      <td>...</td>\n",
       "    </tr>\n",
       "    <tr>\n",
       "      <th>111723</th>\n",
       "      <td>اللاعب تأخر في العودة إلى التداريب والمدرب غاض...</td>\n",
       "      <td>4</td>\n",
       "    </tr>\n",
       "    <tr>\n",
       "      <th>111724</th>\n",
       "      <td>المشرف العام لحسنية أكادير قال إنه سيغادر الفر...</td>\n",
       "      <td>4</td>\n",
       "    </tr>\n",
       "    <tr>\n",
       "      <th>111725</th>\n",
       "      <td>نسب إليه نتائج الوداد وصحوة الرجاء وآخر صيحاته...</td>\n",
       "      <td>4</td>\n",
       "    </tr>\n",
       "    <tr>\n",
       "      <th>111726</th>\n",
       "      <td>ستحتضن الرباط في الفترة مابين يوليوز المقبل دو...</td>\n",
       "      <td>4</td>\n",
       "    </tr>\n",
       "    <tr>\n",
       "      <th>111727</th>\n",
       "      <td>رضخ أحمد أهمو رئيس أمل تيزنيت لكرة القدم لضغوط...</td>\n",
       "      <td>4</td>\n",
       "    </tr>\n",
       "  </tbody>\n",
       "</table>\n",
       "<p>108789 rows × 2 columns</p>\n",
       "</div>"
      ],
      "text/plain": [
       "                                                     text  targe\n",
       "0       بين أستوديوهات ورزازات وصحراء مرزوكة وآثار ولي...      0\n",
       "1       قررت النجمة الأمريكية أوبرا وينفري ألا يقتصر ع...      0\n",
       "2       أخبارنا المغربية الوزاني تصوير الشملالي ألهب ا...      0\n",
       "3       اخبارنا المغربية قال ابراهيم الراشدي محامي سعد...      0\n",
       "4       تزال صناعة الجلود في المغرب تتبع الطريقة التقل...      0\n",
       "...                                                   ...    ...\n",
       "111723  اللاعب تأخر في العودة إلى التداريب والمدرب غاض...      4\n",
       "111724  المشرف العام لحسنية أكادير قال إنه سيغادر الفر...      4\n",
       "111725  نسب إليه نتائج الوداد وصحوة الرجاء وآخر صيحاته...      4\n",
       "111726  ستحتضن الرباط في الفترة مابين يوليوز المقبل دو...      4\n",
       "111727  رضخ أحمد أهمو رئيس أمل تيزنيت لكرة القدم لضغوط...      4\n",
       "\n",
       "[108789 rows x 2 columns]"
      ]
     },
     "execution_count": 11,
     "metadata": {},
     "output_type": "execute_result"
    }
   ],
   "source": [
    "clean_df"
   ]
  },
  {
   "cell_type": "code",
   "execution_count": 12,
   "id": "f0b3d00c",
   "metadata": {},
   "outputs": [
    {
     "data": {
      "text/plain": [
       "text     بين أستوديوهات ورزازات وصحراء مرزوكة وآثار ولي...\n",
       "targe                                                    0\n",
       "Name: 0, dtype: object"
      ]
     },
     "execution_count": 12,
     "metadata": {},
     "output_type": "execute_result"
    }
   ],
   "source": [
    "clean_df.iloc[0]"
   ]
  },
  {
   "cell_type": "code",
   "execution_count": 13,
   "id": "548759bf",
   "metadata": {},
   "outputs": [
    {
     "data": {
      "text/plain": [
       "'بين أستوديوهات ورزازات وصحراء مرزوكة وآثار وليلي ثم الرباط والبيضاء انتهى المخرج المغربي سهيل بن بركة من تصوير مشاهد عمله السينمائي الجديد الذي خصصه لتسليط الضوء عن حياة الجاسوس الإسباني دومينغو باديا الذي عاش فترة من القرن التاسع عشر بالمغرب باسم علي باي هذا الفيلم الذي اختار له مخرجه عنوان حلم خليفة يصور حياة علي باي العباسي الذي ما زال أحد أحياء طنجة يحمل اسمه عاش حياة فريدة متنكرا بشخصية تاجر عربي من سلالة الرسول صلى الله عليه وسلم فيما كان يعمل جاسوسا لحساب إسبانيا وكشف مخرج الفيلم سهيل بن بركة في تصريح لهسبريس أن الفيلم السينمائي دخل مرحلة التوضيب التي تتم خارج المغرب مبرزا أن الفيلم الذي يروي حياة الجاسوس الإسباني دومينغو باديا منذ أن قرر من طنجة بدء رحلاته نحو عدد من المناطق في العالم الإسلامي بداية القرن العشرين سيكون جاهزا بعد شهرين ويجمع الفيلم السينمائي عددا من الممثلين من مختلف الجنسيات واختار لدور البطولة الممثلة السينمائية الإيطالية كارولينا كريشنتيني للقيام بدور الإنجليزية الليدي هستر ستانهوب التي اشتهرت في الكتب الغربية بـ زنوبيا والتي عاشت بدورها بالدول العربية وارتبطت بعلي باي بعلاقة عاطفية إضافة إلى وجوه سينمائية معروفة وعن اختيار المخرج المغربي لحياة علي باي العباسي يوضح في تصريح لوكالة الأنباء الفرنسية هذه الشخصية عاشت أحداثا مشوقة كثيرة تستحق أن تسلط عليها الأضواء مشيرا إلى أن الفيلم سيحمل الكثير من المفاجآت لا سيما أن البطل قتل على يد امرأة دست له السم خلال رحلة الحج وأضاف شخصية طموحة وشجاعة ومثقفة ومذهلة في آن واحد كان يرى نفسه مستكشفا في أول الأمر نال علي باي إعجاب السلطان بعلمه فجعله من المقربين منه في ظرف وجيز ودعاه إلى اللحاق به إلى فاس وبرحيله إلى فاس تنتهي قصته مع طنجة وعاش علي باي العباسي بمدينة طنجة على أنه رجل مسلم أصله من الشام ونال ثقة الجميع في هذه المدينة حيث تم تشييد تمثال له في عروسة الشمال نظرا لتمكنه من بعض العلوم خاصة علم الفلك الذي مكنه من رصد كسوف الشمس الذي تزامن مع وجوده في طنجة فكان لعلمه دور كبير ساعده في إخفاء هويته كما أبان هذا الأمر أيضا عن تراجع كبير في ميدان العلم والمعرفة لدى المغاربة والمسلمين بصفة عامة'"
      ]
     },
     "execution_count": 13,
     "metadata": {},
     "output_type": "execute_result"
    }
   ],
   "source": [
    "clean_df.iloc[0,0]"
   ]
  },
  {
   "cell_type": "code",
   "execution_count": 14,
   "id": "4f42e658",
   "metadata": {},
   "outputs": [
    {
     "data": {
      "text/plain": [
       "'أخبارنا المغربية حنان سلامة ذكرت مصادر تونسية أن مصالح الامن التونسي اعتقلت مغني الراي الجزائري رضا الطالياني الأحد بمدينة الحمامات السياحية بعد عملية مداهمة مفاجئة وأضاف ذات المصدر أن عملية التوقيف تمت من قبل فرقة أمن الملاهي التابعة لوحدات التدخل بالحمامات حيث عثر بحوزته على مادة الكوكايين وبعد استشارة النيابة العمومية تم إيداع المغني رضا الطالياني الحبس المؤقت على ذمة التحقيق للإشارة فإن الطالياني كان من المنتظر أن يحي اليوم الإثنين حفلا فنيا بالعاصمة الرباط لكن تم إلغاؤه بسبب الاعتقال المفاجئ'"
      ]
     },
     "execution_count": 14,
     "metadata": {},
     "output_type": "execute_result"
    }
   ],
   "source": [
    "clean_df.iloc[40,0]"
   ]
  },
  {
   "cell_type": "code",
   "execution_count": 15,
   "id": "5762fdc9",
   "metadata": {},
   "outputs": [
    {
     "data": {
      "text/html": [
       "<div>\n",
       "<style scoped>\n",
       "    .dataframe tbody tr th:only-of-type {\n",
       "        vertical-align: middle;\n",
       "    }\n",
       "\n",
       "    .dataframe tbody tr th {\n",
       "        vertical-align: top;\n",
       "    }\n",
       "\n",
       "    .dataframe thead th {\n",
       "        text-align: right;\n",
       "    }\n",
       "</style>\n",
       "<table border=\"1\" class=\"dataframe\">\n",
       "  <thead>\n",
       "    <tr style=\"text-align: right;\">\n",
       "      <th></th>\n",
       "      <th>text</th>\n",
       "      <th>targe</th>\n",
       "    </tr>\n",
       "  </thead>\n",
       "  <tbody>\n",
       "    <tr>\n",
       "      <th>0</th>\n",
       "      <td>بين أستوديوهات ورزازات وصحراء مرزوكة وآثار ولي...</td>\n",
       "      <td>0</td>\n",
       "    </tr>\n",
       "    <tr>\n",
       "      <th>1</th>\n",
       "      <td>قررت النجمة الأمريكية أوبرا وينفري ألا يقتصر ع...</td>\n",
       "      <td>0</td>\n",
       "    </tr>\n",
       "    <tr>\n",
       "      <th>2</th>\n",
       "      <td>أخبارنا المغربية الوزاني تصوير الشملالي ألهب ا...</td>\n",
       "      <td>0</td>\n",
       "    </tr>\n",
       "    <tr>\n",
       "      <th>3</th>\n",
       "      <td>اخبارنا المغربية قال ابراهيم الراشدي محامي سعد...</td>\n",
       "      <td>0</td>\n",
       "    </tr>\n",
       "    <tr>\n",
       "      <th>4</th>\n",
       "      <td>تزال صناعة الجلود في المغرب تتبع الطريقة التقل...</td>\n",
       "      <td>0</td>\n",
       "    </tr>\n",
       "    <tr>\n",
       "      <th>...</th>\n",
       "      <td>...</td>\n",
       "      <td>...</td>\n",
       "    </tr>\n",
       "    <tr>\n",
       "      <th>111723</th>\n",
       "      <td>اللاعب تأخر في العودة إلى التداريب والمدرب غاض...</td>\n",
       "      <td>4</td>\n",
       "    </tr>\n",
       "    <tr>\n",
       "      <th>111724</th>\n",
       "      <td>المشرف العام لحسنية أكادير قال إنه سيغادر الفر...</td>\n",
       "      <td>4</td>\n",
       "    </tr>\n",
       "    <tr>\n",
       "      <th>111725</th>\n",
       "      <td>نسب إليه نتائج الوداد وصحوة الرجاء وآخر صيحاته...</td>\n",
       "      <td>4</td>\n",
       "    </tr>\n",
       "    <tr>\n",
       "      <th>111726</th>\n",
       "      <td>ستحتضن الرباط في الفترة مابين يوليوز المقبل دو...</td>\n",
       "      <td>4</td>\n",
       "    </tr>\n",
       "    <tr>\n",
       "      <th>111727</th>\n",
       "      <td>رضخ أحمد أهمو رئيس أمل تيزنيت لكرة القدم لضغوط...</td>\n",
       "      <td>4</td>\n",
       "    </tr>\n",
       "  </tbody>\n",
       "</table>\n",
       "<p>108789 rows × 2 columns</p>\n",
       "</div>"
      ],
      "text/plain": [
       "                                                     text  targe\n",
       "0       بين أستوديوهات ورزازات وصحراء مرزوكة وآثار ولي...      0\n",
       "1       قررت النجمة الأمريكية أوبرا وينفري ألا يقتصر ع...      0\n",
       "2       أخبارنا المغربية الوزاني تصوير الشملالي ألهب ا...      0\n",
       "3       اخبارنا المغربية قال ابراهيم الراشدي محامي سعد...      0\n",
       "4       تزال صناعة الجلود في المغرب تتبع الطريقة التقل...      0\n",
       "...                                                   ...    ...\n",
       "111723  اللاعب تأخر في العودة إلى التداريب والمدرب غاض...      4\n",
       "111724  المشرف العام لحسنية أكادير قال إنه سيغادر الفر...      4\n",
       "111725  نسب إليه نتائج الوداد وصحوة الرجاء وآخر صيحاته...      4\n",
       "111726  ستحتضن الرباط في الفترة مابين يوليوز المقبل دو...      4\n",
       "111727  رضخ أحمد أهمو رئيس أمل تيزنيت لكرة القدم لضغوط...      4\n",
       "\n",
       "[108789 rows x 2 columns]"
      ]
     },
     "execution_count": 15,
     "metadata": {},
     "output_type": "execute_result"
    }
   ],
   "source": [
    "clean_df"
   ]
  },
  {
   "cell_type": "code",
   "execution_count": 16,
   "id": "6a99a180",
   "metadata": {},
   "outputs": [
    {
     "name": "stderr",
     "output_type": "stream",
     "text": [
      "C:\\Users\\HP\\AppData\\Local\\Temp\\ipykernel_1328\\3738301946.py:2: SettingWithCopyWarning: \n",
      "A value is trying to be set on a copy of a slice from a DataFrame.\n",
      "Try using .loc[row_indexer,col_indexer] = value instead\n",
      "\n",
      "See the caveats in the documentation: https://pandas.pydata.org/pandas-docs/stable/user_guide/indexing.html#returning-a-view-versus-a-copy\n",
      "  clean_df['text'] = clean_df['text'].astype(str).str.replace(letter,'',regex=True)\n"
     ]
    }
   ],
   "source": [
    "for letter in r'#.][!XR':\n",
    "    clean_df['text'] = clean_df['text'].astype(str).str.replace(letter,'',regex=True)"
   ]
  },
  {
   "cell_type": "code",
   "execution_count": 17,
   "id": "c2303142",
   "metadata": {},
   "outputs": [
    {
     "name": "stdout",
     "output_type": "stream",
     "text": [
      "Hst\n"
     ]
    }
   ],
   "source": [
    "mystr = \"Most\"\n",
    "xx = mystr.maketrans('M','H','o')\n",
    "newstr = mystr.translate(xx)\n",
    "\n",
    "print(newstr)"
   ]
  },
  {
   "cell_type": "code",
   "execution_count": 18,
   "id": "7cf7eba6",
   "metadata": {},
   "outputs": [
    {
     "name": "stdout",
     "output_type": "stream",
     "text": [
      "punctuation_list `÷×؛<>_()*&^%][ـ،/:\"؟.,'{}~¦+|!”…“–ـ!\"#$%&'()*+,-./:;<=>?@[\\]^_`{|}~\n"
     ]
    }
   ],
   "source": [
    "arabic_punctuations = '''`÷×؛<>_()*&^%][ـ،/:\"؟.,'{}~¦+|!”…“–ـ'''\n",
    "english_punctuation = string.punctuation\n",
    "punctuation_list = arabic_punctuations + english_punctuation\n",
    "\n",
    "print(\"punctuation_list\", punctuation_list)"
   ]
  },
  {
   "cell_type": "code",
   "execution_count": 19,
   "id": "c93ba698",
   "metadata": {},
   "outputs": [],
   "source": [
    "def remove_punctuations(text):\n",
    "    translator = str.maketrans('','',punctuation_list)\n",
    "    return text.translate(translator)"
   ]
  },
  {
   "cell_type": "code",
   "execution_count": 20,
   "id": "beb026f2",
   "metadata": {},
   "outputs": [],
   "source": [
    "def remove_repeating_char(text):\n",
    "    return re.sub(r'(.)\\1+', r'\\1', text)"
   ]
  },
  {
   "cell_type": "code",
   "execution_count": 21,
   "id": "de821e58",
   "metadata": {},
   "outputs": [],
   "source": [
    "def normalize_arabic(text):\n",
    "    text = re.sub(\"[إأآا]\", \"ا\",text)\n",
    "    text = re.sub(\"ى\", \"ي\", text)\n",
    "    text = re.sub(\"ة\", \"ه\", text)\n",
    "    text = re.sub(\"گ\", \"ك\", text)\n",
    "    return text"
   ]
  },
  {
   "cell_type": "code",
   "execution_count": 22,
   "id": "2f0c8eaf",
   "metadata": {},
   "outputs": [],
   "source": [
    "stemmer = ISRIStemmer()"
   ]
  },
  {
   "cell_type": "code",
   "execution_count": 23,
   "id": "0e7249c5",
   "metadata": {},
   "outputs": [],
   "source": [
    "def processDocument(doc, stemmer):\n",
    "    doc = remove_punctuations(doc)\n",
    "    \n",
    "    #replace some re\n",
    "    doc = re.sub(r'@[^\\s]+', ' ', doc)\n",
    "    doc = re.sub(r'_', ' ', doc)\n",
    "    doc = re.sub(r'\\n', ' ', doc)\n",
    "    doc = re.sub(r'[a-z,A-Z]', '', doc)\n",
    "    doc = re.sub(r'\\d', '', doc)\n",
    "    doc = re.sub('((www\\.[^\\s]+)|(https?://[^\\s]+))',' ',doc)\n",
    "    \n",
    "    doc = normalize_arabic(doc)\n",
    "    \n",
    "    doc = remove_repeating_char(doc)\n",
    "    \n",
    "    doc = stemmer.stem(doc)\n",
    "    \n",
    "    return doc"
   ]
  },
  {
   "cell_type": "code",
   "execution_count": 24,
   "id": "bbe7f822",
   "metadata": {},
   "outputs": [
    {
     "data": {
      "text/html": [
       "<div>\n",
       "<style scoped>\n",
       "    .dataframe tbody tr th:only-of-type {\n",
       "        vertical-align: middle;\n",
       "    }\n",
       "\n",
       "    .dataframe tbody tr th {\n",
       "        vertical-align: top;\n",
       "    }\n",
       "\n",
       "    .dataframe thead th {\n",
       "        text-align: right;\n",
       "    }\n",
       "</style>\n",
       "<table border=\"1\" class=\"dataframe\">\n",
       "  <thead>\n",
       "    <tr style=\"text-align: right;\">\n",
       "      <th></th>\n",
       "      <th>text</th>\n",
       "      <th>targe</th>\n",
       "    </tr>\n",
       "  </thead>\n",
       "  <tbody>\n",
       "    <tr>\n",
       "      <th>0</th>\n",
       "      <td>بين أستوديوهات ورزازات وصحراء مرزوكة وآثار ولي...</td>\n",
       "      <td>0</td>\n",
       "    </tr>\n",
       "    <tr>\n",
       "      <th>1</th>\n",
       "      <td>قررت النجمة الأمريكية أوبرا وينفري ألا يقتصر ع...</td>\n",
       "      <td>0</td>\n",
       "    </tr>\n",
       "    <tr>\n",
       "      <th>2</th>\n",
       "      <td>أخبارنا المغربية الوزاني تصوير الشملالي ألهب ا...</td>\n",
       "      <td>0</td>\n",
       "    </tr>\n",
       "    <tr>\n",
       "      <th>3</th>\n",
       "      <td>اخبارنا المغربية قال ابراهيم الراشدي محامي سعد...</td>\n",
       "      <td>0</td>\n",
       "    </tr>\n",
       "    <tr>\n",
       "      <th>4</th>\n",
       "      <td>تزال صناعة الجلود في المغرب تتبع الطريقة التقل...</td>\n",
       "      <td>0</td>\n",
       "    </tr>\n",
       "    <tr>\n",
       "      <th>...</th>\n",
       "      <td>...</td>\n",
       "      <td>...</td>\n",
       "    </tr>\n",
       "    <tr>\n",
       "      <th>111723</th>\n",
       "      <td>اللاعب تأخر في العودة إلى التداريب والمدرب غاض...</td>\n",
       "      <td>4</td>\n",
       "    </tr>\n",
       "    <tr>\n",
       "      <th>111724</th>\n",
       "      <td>المشرف العام لحسنية أكادير قال إنه سيغادر الفر...</td>\n",
       "      <td>4</td>\n",
       "    </tr>\n",
       "    <tr>\n",
       "      <th>111725</th>\n",
       "      <td>نسب إليه نتائج الوداد وصحوة الرجاء وآخر صيحاته...</td>\n",
       "      <td>4</td>\n",
       "    </tr>\n",
       "    <tr>\n",
       "      <th>111726</th>\n",
       "      <td>ستحتضن الرباط في الفترة مابين يوليوز المقبل دو...</td>\n",
       "      <td>4</td>\n",
       "    </tr>\n",
       "    <tr>\n",
       "      <th>111727</th>\n",
       "      <td>رضخ أحمد أهمو رئيس أمل تيزنيت لكرة القدم لضغوط...</td>\n",
       "      <td>4</td>\n",
       "    </tr>\n",
       "  </tbody>\n",
       "</table>\n",
       "<p>108789 rows × 2 columns</p>\n",
       "</div>"
      ],
      "text/plain": [
       "                                                     text  targe\n",
       "0       بين أستوديوهات ورزازات وصحراء مرزوكة وآثار ولي...      0\n",
       "1       قررت النجمة الأمريكية أوبرا وينفري ألا يقتصر ع...      0\n",
       "2       أخبارنا المغربية الوزاني تصوير الشملالي ألهب ا...      0\n",
       "3       اخبارنا المغربية قال ابراهيم الراشدي محامي سعد...      0\n",
       "4       تزال صناعة الجلود في المغرب تتبع الطريقة التقل...      0\n",
       "...                                                   ...    ...\n",
       "111723  اللاعب تأخر في العودة إلى التداريب والمدرب غاض...      4\n",
       "111724  المشرف العام لحسنية أكادير قال إنه سيغادر الفر...      4\n",
       "111725  نسب إليه نتائج الوداد وصحوة الرجاء وآخر صيحاته...      4\n",
       "111726  ستحتضن الرباط في الفترة مابين يوليوز المقبل دو...      4\n",
       "111727  رضخ أحمد أهمو رئيس أمل تيزنيت لكرة القدم لضغوط...      4\n",
       "\n",
       "[108789 rows x 2 columns]"
      ]
     },
     "execution_count": 24,
     "metadata": {},
     "output_type": "execute_result"
    }
   ],
   "source": [
    "clean_df"
   ]
  },
  {
   "cell_type": "code",
   "execution_count": 25,
   "id": "304d41fd",
   "metadata": {},
   "outputs": [
    {
     "name": "stderr",
     "output_type": "stream",
     "text": [
      "C:\\Users\\HP\\AppData\\Local\\Temp\\ipykernel_1328\\3553918876.py:1: SettingWithCopyWarning: \n",
      "A value is trying to be set on a copy of a slice from a DataFrame.\n",
      "Try using .loc[row_indexer,col_indexer] = value instead\n",
      "\n",
      "See the caveats in the documentation: https://pandas.pydata.org/pandas-docs/stable/user_guide/indexing.html#returning-a-view-versus-a-copy\n",
      "  clean_df['text'] = clean_df['text'].apply(lambda x:processDocument(x,stemmer))\n"
     ]
    }
   ],
   "source": [
    "clean_df['text'] = clean_df['text'].apply(lambda x:processDocument(x,stemmer))"
   ]
  },
  {
   "cell_type": "code",
   "execution_count": 26,
   "id": "03ebe357",
   "metadata": {},
   "outputs": [
    {
     "data": {
      "text/html": [
       "<div>\n",
       "<style scoped>\n",
       "    .dataframe tbody tr th:only-of-type {\n",
       "        vertical-align: middle;\n",
       "    }\n",
       "\n",
       "    .dataframe tbody tr th {\n",
       "        vertical-align: top;\n",
       "    }\n",
       "\n",
       "    .dataframe thead th {\n",
       "        text-align: right;\n",
       "    }\n",
       "</style>\n",
       "<table border=\"1\" class=\"dataframe\">\n",
       "  <thead>\n",
       "    <tr style=\"text-align: right;\">\n",
       "      <th></th>\n",
       "      <th>text</th>\n",
       "      <th>targe</th>\n",
       "    </tr>\n",
       "  </thead>\n",
       "  <tbody>\n",
       "    <tr>\n",
       "      <th>0</th>\n",
       "      <td>بين استوديوهات ورزازات وصحراء مرزوكه واثار ولي...</td>\n",
       "      <td>0</td>\n",
       "    </tr>\n",
       "    <tr>\n",
       "      <th>1</th>\n",
       "      <td>قرت النجمه الامريكيه اوبرا وينفري الا يقتصر عم...</td>\n",
       "      <td>0</td>\n",
       "    </tr>\n",
       "    <tr>\n",
       "      <th>2</th>\n",
       "      <td>اخبارنا المغربيه الوزاني تصوير الشملالي الهب ا...</td>\n",
       "      <td>0</td>\n",
       "    </tr>\n",
       "    <tr>\n",
       "      <th>3</th>\n",
       "      <td>اخبارنا المغربيه قال ابراهيم الراشدي محامي سعد...</td>\n",
       "      <td>0</td>\n",
       "    </tr>\n",
       "    <tr>\n",
       "      <th>4</th>\n",
       "      <td>تزال صناعه الجلود في المغرب تبع الطريقه التقلي...</td>\n",
       "      <td>0</td>\n",
       "    </tr>\n",
       "    <tr>\n",
       "      <th>...</th>\n",
       "      <td>...</td>\n",
       "      <td>...</td>\n",
       "    </tr>\n",
       "    <tr>\n",
       "      <th>111723</th>\n",
       "      <td>اعب تاخر في العوده الي التداريب والمدرب غاضب و...</td>\n",
       "      <td>4</td>\n",
       "    </tr>\n",
       "    <tr>\n",
       "      <th>111724</th>\n",
       "      <td>مشرف العام لحسنيه اكادير قال انه سيغادر الفريق...</td>\n",
       "      <td>4</td>\n",
       "    </tr>\n",
       "    <tr>\n",
       "      <th>111725</th>\n",
       "      <td>نسب اليه نتائج الوداد وصحوه الرجاء واخر صيحاته...</td>\n",
       "      <td>4</td>\n",
       "    </tr>\n",
       "    <tr>\n",
       "      <th>111726</th>\n",
       "      <td>ستحتضن الرباط في الفتره مابين يوليوز المقبل دو...</td>\n",
       "      <td>4</td>\n",
       "    </tr>\n",
       "    <tr>\n",
       "      <th>111727</th>\n",
       "      <td>رضخ احمد اهمو رئيس امل تيزنيت لكره القدم لضغوط...</td>\n",
       "      <td>4</td>\n",
       "    </tr>\n",
       "  </tbody>\n",
       "</table>\n",
       "<p>108789 rows × 2 columns</p>\n",
       "</div>"
      ],
      "text/plain": [
       "                                                     text  targe\n",
       "0       بين استوديوهات ورزازات وصحراء مرزوكه واثار ولي...      0\n",
       "1       قرت النجمه الامريكيه اوبرا وينفري الا يقتصر عم...      0\n",
       "2       اخبارنا المغربيه الوزاني تصوير الشملالي الهب ا...      0\n",
       "3       اخبارنا المغربيه قال ابراهيم الراشدي محامي سعد...      0\n",
       "4       تزال صناعه الجلود في المغرب تبع الطريقه التقلي...      0\n",
       "...                                                   ...    ...\n",
       "111723  اعب تاخر في العوده الي التداريب والمدرب غاضب و...      4\n",
       "111724  مشرف العام لحسنيه اكادير قال انه سيغادر الفريق...      4\n",
       "111725  نسب اليه نتائج الوداد وصحوه الرجاء واخر صيحاته...      4\n",
       "111726  ستحتضن الرباط في الفتره مابين يوليوز المقبل دو...      4\n",
       "111727  رضخ احمد اهمو رئيس امل تيزنيت لكره القدم لضغوط...      4\n",
       "\n",
       "[108789 rows x 2 columns]"
      ]
     },
     "execution_count": 26,
     "metadata": {},
     "output_type": "execute_result"
    }
   ],
   "source": [
    "clean_df"
   ]
  },
  {
   "cell_type": "code",
   "execution_count": 27,
   "id": "5dae9cbf",
   "metadata": {},
   "outputs": [
    {
     "name": "stdout",
     "output_type": "stream",
     "text": [
      "بين استوديوهات ورزازات وصحراء مرزوكه واثار وليلي ثم الرباط والبيضاء انتهي المخرج المغربي سهيل بن بركه من تصوير مشاهد عمله السينمائي الجديد الذي خصه لتسليط الضوء عن حياه الجاسوس الاسباني دومينغو باديا الذي عاش فتره من القرن التاسع عشر بالمغرب باسم علي باي هذا الفيلم الذي اختار له مخرجه عنوان حلم خليفه يصور حياه علي باي العباسي الذي ما زال احد احياء طنجه يحمل اسمه عاش حياه فريده متنكرا بشخصيه تاجر عربي من سلاله الرسول صلي اله عليه وسلم فيما كان يعمل جاسوسا لحساب اسبانيا وكشف مخرج الفيلم سهيل بن بركه في تصريح لهسبريس ان الفيلم السينمائي دخل مرحله التوضيب التي تم خارج المغرب مبرزا ان الفيلم الذي يروي حياه الجاسوس الاسباني دومينغو باديا منذ ان قر من طنجه بدء رحلاته نحو عد من المناطق في العالم الاسلامي بدايه القرن العشرين سيكون جاهزا بعد شهرين ويجمع الفيلم السينمائي عدا من المثلين من مختلف الجنسيات واختار لدور البطوله المثله السينمائيه الايطاليه كارولينا كريشنتيني لقيام بدور الانجليزيه اليدي هستر ستانهوب التي اشتهرت في الكتب الغربيه ب زنوبيا والتي عاشت بدورها بالدول العربيه وارتبطت بعلي باي بعلاقه عاطفيه اضافه الي وجوه سينمائيه معروفه وعن اختيار المخرج المغربي لحياه علي باي العباسي يوضح في تصريح لوكاله الانباء الفرنسيه هذه الشخصيه عاشت احداثا مشوقه كثيره تستحق ان تسلط عليها الاضواء مشيرا الي ان الفيلم سيحمل الكثير من المفاجات لا سيما ان البطل قتل علي يد امراه دست له السم خلال رحله الحج واضاف شخصيه طموحه وشجاعه ومثقفه ومذهله في ان واحد كان يري نفسه مستكشفا في اول الامر نال علي باي اعجاب السلطان بعلمه فجعله من المقربين منه في ظرف وجيز ودعاه الي الحاق به الي فاس وبرحيله الي فاس تنتهي قصته مع طنجه وعاش علي باي العباسي بمدينه طنجه علي انه رجل مسلم اصله من الشام ونال ثقه الجميع في هذه المدينه حيث تم تشيد تمثال له في عروسه الشمال نظرا لتمكنه من بعض العلوم خاصه علم الفلك الذي مكنه من رصد كسوف الشمس الذي تزامن مع وجوده في طنجه فكان لعلمه دور كبير ساعده في اخفاء هويته كما ابان هذا الامر ايضا عن تراجع كبير في ميدان العلم والمعرفه لدي المغاربه والمسلمين بصفه عامه\n"
     ]
    }
   ],
   "source": [
    "print(clean_df['text'].values[0])"
   ]
  },
  {
   "cell_type": "code",
   "execution_count": null,
   "id": "2ab25df5",
   "metadata": {},
   "outputs": [],
   "source": []
  },
  {
   "cell_type": "code",
   "execution_count": null,
   "id": "4e2fc45e",
   "metadata": {},
   "outputs": [],
   "source": []
  }
 ],
 "metadata": {
  "kernelspec": {
   "display_name": "Python 3 (ipykernel)",
   "language": "python",
   "name": "python3"
  },
  "language_info": {
   "codemirror_mode": {
    "name": "ipython",
    "version": 3
   },
   "file_extension": ".py",
   "mimetype": "text/x-python",
   "name": "python",
   "nbconvert_exporter": "python",
   "pygments_lexer": "ipython3",
   "version": "3.9.13"
  }
 },
 "nbformat": 4,
 "nbformat_minor": 5
}
